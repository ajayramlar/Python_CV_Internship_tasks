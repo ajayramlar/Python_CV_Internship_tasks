{
 "cells": [
  {
   "cell_type": "markdown",
   "id": "89e7e29f",
   "metadata": {},
   "source": [
    "Write a Python program for all the cases which can check a string contains only a certain set of characters (in this case a-z, A-Z and 0-9).\n"
   ]
  },
  {
   "cell_type": "code",
   "execution_count": 2,
   "id": "a251affe",
   "metadata": {},
   "outputs": [
    {
     "name": "stdout",
     "output_type": "stream",
     "text": [
      "True\n",
      "False\n"
     ]
    }
   ],
   "source": [
    "import re\n",
    "\n",
    "def is_allowed_specific_char(string):\n",
    "    charRe = re.compile(r'[^a-zA-Z0-9.]')\n",
    "    string = charRe.search(string)\n",
    "    return not bool(string)\n",
    "\n",
    "\n",
    "print(is_allowed_specific_char(\"ABCDEFabcdef123450\")) \n",
    "print(is_allowed_specific_char(\"1233@@#$$%$\"))"
   ]
  },
  {
   "cell_type": "markdown",
   "id": "ebeacb38",
   "metadata": {},
   "source": [
    "Write a Python program that matches a word containing 'ab'.\n"
   ]
  },
  {
   "cell_type": "code",
   "execution_count": 5,
   "id": "5aee2678",
   "metadata": {},
   "outputs": [
    {
     "name": "stdout",
     "output_type": "stream",
     "text": [
      "Not matched!\n",
      "Found a match!\n"
     ]
    }
   ],
   "source": [
    "import re\n",
    "def text_match(text):\n",
    "        patterns = '\\w*ab.\\w*'\n",
    "        if re.search(patterns,  text):\n",
    "                return 'Found a match!'\n",
    "        else:\n",
    "                return('Not matched!')\n",
    "            \n",
    "            \n",
    "print(text_match(\"Python program\"))\n",
    "print(text_match(\"ababbbabab\"))\n"
   ]
  },
  {
   "cell_type": "markdown",
   "id": "adc2845a",
   "metadata": {},
   "source": [
    "Write a Python program to check for a number at the end of a word/sentence.\n"
   ]
  },
  {
   "cell_type": "code",
   "execution_count": 6,
   "id": "7e90d1a2",
   "metadata": {},
   "outputs": [
    {
     "name": "stdout",
     "output_type": "stream",
     "text": [
      "True\n",
      "True\n",
      "False\n"
     ]
    }
   ],
   "source": [
    "import re\n",
    "def end_num(string):\n",
    "    text = re.compile(r\".*[0-9]$\")\n",
    "    if text.match(string):\n",
    "        return True\n",
    "    else:\n",
    "        return False\n",
    "\n",
    "\n",
    "print(end_num('abcdef12233'))\n",
    "print(end_num('abcdef634556'))\n",
    "print(end_num('abc'))"
   ]
  },
  {
   "cell_type": "markdown",
   "id": "b7858314",
   "metadata": {},
   "source": [
    "Write a Python program to search the numbers (0-9) of length between 1 to 3 in a given string\n"
   ]
  },
  {
   "cell_type": "code",
   "execution_count": 11,
   "id": "fb0f0a72",
   "metadata": {},
   "outputs": [
    {
     "name": "stdout",
     "output_type": "stream",
     "text": [
      "Number of length 1 to 3\n",
      "1\n",
      "9\n",
      "11\n",
      "222\n"
     ]
    }
   ],
   "source": [
    "\n",
    "results = re.finditer(r\"([0-9]{1,3})\", \"Exercises number 1, 9, 11, and 222 are important\")\n",
    "print(\"Number of length 1 to 3\")\n",
    "for n in results:\n",
    "    print(n.group(0))"
   ]
  },
  {
   "cell_type": "markdown",
   "id": "cc63ecbc",
   "metadata": {},
   "source": [
    "Write a Python program to match a string that contains only uppercase letters\n"
   ]
  },
  {
   "cell_type": "code",
   "execution_count": 12,
   "id": "bae681f3",
   "metadata": {},
   "outputs": [
    {
     "name": "stdout",
     "output_type": "stream",
     "text": [
      "Not matched!\n",
      "Found a match!\n"
     ]
    }
   ],
   "source": [
    "import re\n",
    "def text_match(text):\n",
    "        patterns = '^[a-zA-Z0-9_]*$'\n",
    "        if re.search(patterns,  text):\n",
    "                return 'Found a match!'\n",
    "        else:\n",
    "                return('Not matched!')\n",
    "\n",
    "print(text_match(\"The quick brown fox jumps over the lazy dog.\"))\n",
    "print(text_match(\"Python_Exercises_1\"))"
   ]
  },
  {
   "cell_type": "code",
   "execution_count": null,
   "id": "5802e0e0",
   "metadata": {},
   "outputs": [],
   "source": []
  }
 ],
 "metadata": {
  "kernelspec": {
   "display_name": "Python 3",
   "language": "python",
   "name": "python3"
  },
  "language_info": {
   "codemirror_mode": {
    "name": "ipython",
    "version": 3
   },
   "file_extension": ".py",
   "mimetype": "text/x-python",
   "name": "python",
   "nbconvert_exporter": "python",
   "pygments_lexer": "ipython3",
   "version": "3.9.4"
  }
 },
 "nbformat": 4,
 "nbformat_minor": 5
}
