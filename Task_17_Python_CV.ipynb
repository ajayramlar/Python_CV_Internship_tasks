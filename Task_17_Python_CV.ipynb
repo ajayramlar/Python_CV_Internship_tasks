{
 "cells": [
  {
   "cell_type": "markdown",
   "id": "742fc8e8",
   "metadata": {},
   "source": [
    "# Day 17 – Python MySql"
   ]
  },
  {
   "cell_type": "markdown",
   "id": "477b6a2d",
   "metadata": {},
   "source": [
    "# Create a connection for DB and print the version using a python program\n",
    "\n",
    "\n"
   ]
  },
  {
   "cell_type": "code",
   "execution_count": 5,
   "id": "cc48c362",
   "metadata": {},
   "outputs": [
    {
     "name": "stdout",
     "output_type": "stream",
     "text": [
      "<mysql.connector.connection_cext.CMySQLConnection object at 0x00000221324BEDC0>\n"
     ]
    }
   ],
   "source": [
    "import mysql.connector as sql\n",
    "\n",
    "mydb= sql.connect(host = \"localhost\",\n",
    "                       user=\"ajay ram\",\n",
    "                       password = \"password\")\n",
    "\n",
    "print(mydb)"
   ]
  },
  {
   "cell_type": "markdown",
   "id": "07f18ba3",
   "metadata": {},
   "source": [
    "# Create a multiple tables & insert data in table\n"
   ]
  },
  {
   "cell_type": "code",
   "execution_count": 33,
   "id": "6566da88",
   "metadata": {},
   "outputs": [
    {
     "name": "stdout",
     "output_type": "stream",
     "text": [
      "DBMS Version : ('8.0.25',)\n"
     ]
    }
   ],
   "source": [
    "\n",
    "import sys\n",
    "cur = mydb.cursor()\n",
    "cur.execute(\"SELECT VERSION()\")\n",
    "data = cur.fetchone()\n",
    "print(\"DBMS Version :\",str(data))"
   ]
  },
  {
   "cell_type": "code",
   "execution_count": 34,
   "id": "9f06b077",
   "metadata": {},
   "outputs": [
    {
     "name": "stdout",
     "output_type": "stream",
     "text": [
      "('information_schema',)\n",
      "('mydatabase',)\n",
      "('mydatabase1',)\n",
      "('mysql',)\n",
      "('performance_schema',)\n",
      "('sakila',)\n",
      "('sys',)\n",
      "('world',)\n"
     ]
    }
   ],
   "source": [
    "dbse = mydb.cursor()\n",
    "\n",
    "dbse.execute(\"SHOW DATABASES\")\n",
    "\n",
    "for entry in dbse:\n",
    "  print(entry)"
   ]
  },
  {
   "cell_type": "code",
   "execution_count": 37,
   "id": "adb98e48",
   "metadata": {},
   "outputs": [],
   "source": [
    "\n",
    "mydb = mysql.connector.connect(\n",
    "  host=\"localhost\",\n",
    " user=\"root\",\n",
    "  password=\"password\",\n",
    "  database=\"mydatabase1\"\n",
    ")\n",
    "dbse = mydb.cursor()\n",
    "\n",
    "dbse.execute(\"CREATE TABLE customers (Employee_name VARCHAR(255), Employee_dep VARCHAR(255), Employee_id VARCHAR(255))\")"
   ]
  },
  {
   "cell_type": "code",
   "execution_count": 38,
   "id": "911e1627",
   "metadata": {},
   "outputs": [
    {
     "name": "stdout",
     "output_type": "stream",
     "text": [
      "('customers',)\n"
     ]
    }
   ],
   "source": [
    "\n",
    "dbse = mydb.cursor()\n",
    "\n",
    "dbse.execute(\"SHOW TABLES\")\n",
    "\n",
    "for value in dbse:\n",
    "  print(value)"
   ]
  },
  {
   "cell_type": "code",
   "execution_count": 40,
   "id": "8afa1790",
   "metadata": {},
   "outputs": [
    {
     "name": "stdout",
     "output_type": "stream",
     "text": [
      "('customers',)\n",
      "('office',)\n",
      "('student',)\n"
     ]
    }
   ],
   "source": [
    "\n",
    "dbse = mydb.cursor()\n",
    "\n",
    "dbse.execute(\"CREATE TABLE Office (emp_name VARCHAR(255), Employee_id VARCHAR(255) ,EMP_ADDRESS VARCHAR(255))\")\n",
    "dbse.execute(\"CREATE TABLE Student(rollno INT(24) , STUD_NAME VARCHAR(255) , MARK INT(3))\")\n",
    "dbse.execute(\"SHOW TABLES\")\n",
    "\n",
    "for value in dbse:\n",
    "  print(value)"
   ]
  },
  {
   "cell_type": "markdown",
   "id": "9eaf76a2",
   "metadata": {},
   "source": [
    "# Create a employee table and read all the employee name in the table using for loop\n"
   ]
  },
  {
   "cell_type": "code",
   "execution_count": 44,
   "id": "bd135fdb",
   "metadata": {},
   "outputs": [],
   "source": [
    "\n",
    "mydb = mysql.connector.connect(\n",
    "  host=\"localhost\",\n",
    " user=\"root\",\n",
    "  password=\"password\",\n",
    "  database=\"mydatabase1\"\n",
    ")\n",
    "\n",
    "mycursor = mydb.cursor()\n",
    "\n",
    "mycursor.execute(\"CREATE TABLE Employee1 (id INT AUTO_INCREMENT PRIMARY KEY, name VARCHAR(255), address VARCHAR(255))\")"
   ]
  },
  {
   "cell_type": "code",
   "execution_count": 45,
   "id": "8caa7238",
   "metadata": {},
   "outputs": [
    {
     "name": "stdout",
     "output_type": "stream",
     "text": [
      "1 record inserted successfully\n"
     ]
    }
   ],
   "source": [
    "mydb = mysql.connector.connect(\n",
    "  host=\"localhost\",\n",
    " user=\"root\",\n",
    "  password=\"password\",\n",
    "  database=\"mydatabase1\"\n",
    ")\n",
    "mycursor = mydb.cursor()\n",
    "\n",
    "sql = \"INSERT INTO Employee1 (id, name, address) VALUES (%s, %s,%s)\"\n",
    "val = (\"1\",\"Ajay ram\",\"Bhimavaram\")\n",
    "mycursor.execute(sql, val)\n",
    "\n",
    "mydb.commit()\n",
    "\n",
    "print(mycursor.rowcount, \"record inserted successfully\")"
   ]
  },
  {
   "cell_type": "code",
   "execution_count": 46,
   "id": "8ee312af",
   "metadata": {},
   "outputs": [
    {
     "name": "stdout",
     "output_type": "stream",
     "text": [
      "1 another record inserted successfully.\n"
     ]
    }
   ],
   "source": [
    "\n",
    "mycursor = mydb.cursor()\n",
    "\n",
    "sql = \"INSERT INTO Employee1 (id, name, address) VALUES (%s, %s,%s)\"\n",
    "val = (\"2\",\"ram ajay\",\"Chennai\")\n",
    "mycursor.execute(sql, val)\n",
    "\n",
    "mydb.commit()\n",
    "\n",
    "print(mycursor.rowcount, \"another record inserted successfully.\")"
   ]
  },
  {
   "cell_type": "code",
   "execution_count": 47,
   "id": "84d49dcb",
   "metadata": {},
   "outputs": [
    {
     "name": "stdout",
     "output_type": "stream",
     "text": [
      "1 another record inserted successfully.\n"
     ]
    }
   ],
   "source": [
    "\n",
    "mycursor = mydb.cursor()\n",
    "\n",
    "sql = \"INSERT INTO Employee1 (id, name, address) VALUES (%s, %s,%s)\"\n",
    "val = (\"3\",\"Ganesh satya\",\"Narsapur\")\n",
    "mycursor.execute(sql, val)\n",
    "\n",
    "mydb.commit()\n",
    "\n",
    "print(mycursor.rowcount, \"another record inserted successfully.\")"
   ]
  },
  {
   "cell_type": "code",
   "execution_count": 49,
   "id": "0ee0773d",
   "metadata": {},
   "outputs": [
    {
     "ename": "IntegrityError",
     "evalue": "1062 (23000): Duplicate entry '4' for key 'employee1.PRIMARY'",
     "output_type": "error",
     "traceback": [
      "\u001b[1;31m---------------------------------------------------------------------------\u001b[0m",
      "\u001b[1;31mMySQLInterfaceError\u001b[0m                       Traceback (most recent call last)",
      "\u001b[1;32mc:\\users\\ajayr\\appdata\\local\\programs\\python\\python39\\lib\\site-packages\\mysql\\connector\\connection_cext.py\u001b[0m in \u001b[0;36mcmd_query\u001b[1;34m(self, query, raw, buffered, raw_as_string)\u001b[0m\n\u001b[0;32m    505\u001b[0m                 \u001b[0mquery\u001b[0m \u001b[1;33m=\u001b[0m \u001b[0mquery\u001b[0m\u001b[1;33m.\u001b[0m\u001b[0mencode\u001b[0m\u001b[1;33m(\u001b[0m\u001b[1;34m'utf-8'\u001b[0m\u001b[1;33m)\u001b[0m\u001b[1;33m\u001b[0m\u001b[1;33m\u001b[0m\u001b[0m\n\u001b[1;32m--> 506\u001b[1;33m             self._cmysql.query(query,\n\u001b[0m\u001b[0;32m    507\u001b[0m                                \u001b[0mraw\u001b[0m\u001b[1;33m=\u001b[0m\u001b[0mraw\u001b[0m\u001b[1;33m,\u001b[0m \u001b[0mbuffered\u001b[0m\u001b[1;33m=\u001b[0m\u001b[0mbuffered\u001b[0m\u001b[1;33m,\u001b[0m\u001b[1;33m\u001b[0m\u001b[1;33m\u001b[0m\u001b[0m\n",
      "\u001b[1;31mMySQLInterfaceError\u001b[0m: Duplicate entry '4' for key 'employee1.PRIMARY'",
      "\nDuring handling of the above exception, another exception occurred:\n",
      "\u001b[1;31mIntegrityError\u001b[0m                            Traceback (most recent call last)",
      "\u001b[1;32m<ipython-input-49-c705b59aa665>\u001b[0m in \u001b[0;36m<module>\u001b[1;34m\u001b[0m\n\u001b[0;32m      9\u001b[0m ]\n\u001b[0;32m     10\u001b[0m \u001b[1;33m\u001b[0m\u001b[0m\n\u001b[1;32m---> 11\u001b[1;33m \u001b[0mmycursor\u001b[0m\u001b[1;33m.\u001b[0m\u001b[0mexecutemany\u001b[0m\u001b[1;33m(\u001b[0m\u001b[0msql\u001b[0m\u001b[1;33m,\u001b[0m \u001b[0mval\u001b[0m\u001b[1;33m)\u001b[0m\u001b[1;33m\u001b[0m\u001b[1;33m\u001b[0m\u001b[0m\n\u001b[0m\u001b[0;32m     12\u001b[0m \u001b[1;33m\u001b[0m\u001b[0m\n\u001b[0;32m     13\u001b[0m \u001b[0mmydb\u001b[0m\u001b[1;33m.\u001b[0m\u001b[0mcommit\u001b[0m\u001b[1;33m(\u001b[0m\u001b[1;33m)\u001b[0m\u001b[1;33m\u001b[0m\u001b[1;33m\u001b[0m\u001b[0m\n",
      "\u001b[1;32mc:\\users\\ajayr\\appdata\\local\\programs\\python\\python39\\lib\\site-packages\\mysql\\connector\\cursor_cext.py\u001b[0m in \u001b[0;36mexecutemany\u001b[1;34m(self, operation, seq_params)\u001b[0m\n\u001b[0;32m    356\u001b[0m             \u001b[1;32mif\u001b[0m \u001b[0mstmt\u001b[0m \u001b[1;32mis\u001b[0m \u001b[1;32mnot\u001b[0m \u001b[1;32mNone\u001b[0m\u001b[1;33m:\u001b[0m\u001b[1;33m\u001b[0m\u001b[1;33m\u001b[0m\u001b[0m\n\u001b[0;32m    357\u001b[0m                 \u001b[0mself\u001b[0m\u001b[1;33m.\u001b[0m\u001b[0m_executed\u001b[0m \u001b[1;33m=\u001b[0m \u001b[0mstmt\u001b[0m\u001b[1;33m\u001b[0m\u001b[1;33m\u001b[0m\u001b[0m\n\u001b[1;32m--> 358\u001b[1;33m                 \u001b[1;32mreturn\u001b[0m \u001b[0mself\u001b[0m\u001b[1;33m.\u001b[0m\u001b[0mexecute\u001b[0m\u001b[1;33m(\u001b[0m\u001b[0mstmt\u001b[0m\u001b[1;33m)\u001b[0m\u001b[1;33m\u001b[0m\u001b[1;33m\u001b[0m\u001b[0m\n\u001b[0m\u001b[0;32m    359\u001b[0m \u001b[1;33m\u001b[0m\u001b[0m\n\u001b[0;32m    360\u001b[0m         \u001b[0mrowcnt\u001b[0m \u001b[1;33m=\u001b[0m \u001b[1;36m0\u001b[0m\u001b[1;33m\u001b[0m\u001b[1;33m\u001b[0m\u001b[0m\n",
      "\u001b[1;32mc:\\users\\ajayr\\appdata\\local\\programs\\python\\python39\\lib\\site-packages\\mysql\\connector\\cursor_cext.py\u001b[0m in \u001b[0;36mexecute\u001b[1;34m(self, operation, params, multi)\u001b[0m\n\u001b[0;32m    267\u001b[0m \u001b[1;33m\u001b[0m\u001b[0m\n\u001b[0;32m    268\u001b[0m         \u001b[1;32mtry\u001b[0m\u001b[1;33m:\u001b[0m\u001b[1;33m\u001b[0m\u001b[1;33m\u001b[0m\u001b[0m\n\u001b[1;32m--> 269\u001b[1;33m             result = self._cnx.cmd_query(stmt, raw=self._raw,\n\u001b[0m\u001b[0;32m    270\u001b[0m                                          \u001b[0mbuffered\u001b[0m\u001b[1;33m=\u001b[0m\u001b[0mself\u001b[0m\u001b[1;33m.\u001b[0m\u001b[0m_buffered\u001b[0m\u001b[1;33m,\u001b[0m\u001b[1;33m\u001b[0m\u001b[1;33m\u001b[0m\u001b[0m\n\u001b[0;32m    271\u001b[0m                                          raw_as_string=self._raw_as_string)\n",
      "\u001b[1;32mc:\\users\\ajayr\\appdata\\local\\programs\\python\\python39\\lib\\site-packages\\mysql\\connector\\connection_cext.py\u001b[0m in \u001b[0;36mcmd_query\u001b[1;34m(self, query, raw, buffered, raw_as_string)\u001b[0m\n\u001b[0;32m    508\u001b[0m                                raw_as_string=raw_as_string)\n\u001b[0;32m    509\u001b[0m         \u001b[1;32mexcept\u001b[0m \u001b[0mMySQLInterfaceError\u001b[0m \u001b[1;32mas\u001b[0m \u001b[0mexc\u001b[0m\u001b[1;33m:\u001b[0m\u001b[1;33m\u001b[0m\u001b[1;33m\u001b[0m\u001b[0m\n\u001b[1;32m--> 510\u001b[1;33m             raise errors.get_mysql_exception(exc.errno, msg=exc.msg,\n\u001b[0m\u001b[0;32m    511\u001b[0m                                              sqlstate=exc.sqlstate)\n\u001b[0;32m    512\u001b[0m         \u001b[1;32mexcept\u001b[0m \u001b[0mAttributeError\u001b[0m\u001b[1;33m:\u001b[0m\u001b[1;33m\u001b[0m\u001b[1;33m\u001b[0m\u001b[0m\n",
      "\u001b[1;31mIntegrityError\u001b[0m: 1062 (23000): Duplicate entry '4' for key 'employee1.PRIMARY'"
     ]
    }
   ],
   "source": [
    "\n",
    "mycursor = mydb.cursor()\n",
    "\n",
    "sql = \"INSERT INTO Employee1 (id,name, address) VALUES (%s,%s,%s)\"\n",
    "val = [\n",
    "    (\"4\",\"Asha\",\"Pallakulu\"),\n",
    "    (\"5\",\"Likith\",\"Narsapur\"),\n",
    "    (\"6\",\"Hemanth\",\"Chittor\"),\n",
    "    (\"7\",\"Amurtha\",\"two town\")\n",
    "]\n",
    "\n",
    "mycursor.executemany(sql, val)\n",
    "\n",
    "mydb.commit()\n",
    "\n",
    "print(mycursor.rowcount, \"was inserted.\")"
   ]
  },
  {
   "cell_type": "code",
   "execution_count": 50,
   "id": "d992696a",
   "metadata": {},
   "outputs": [
    {
     "name": "stdout",
     "output_type": "stream",
     "text": [
      "(1, 'Ajay ram', 'Bhimavaram')\n",
      "(2, 'ram ajay', 'Chennai')\n",
      "(3, 'Ganesh satya', 'Narsapur')\n",
      "(4, 'Asha', 'Pallakulu')\n",
      "(5, 'Likith', 'Narsapur')\n",
      "(6, 'Hemanth', 'Chittor')\n",
      "(7, 'Amurtha', 'two town')\n"
     ]
    }
   ],
   "source": [
    "mycursor = mydb.cursor()\n",
    "\n",
    "mycursor.execute(\"SELECT * FROM Employee1\")\n",
    "\n",
    "myresult = mycursor.fetchall()\n",
    "\n",
    "for x in myresult:\n",
    "  print(x)"
   ]
  },
  {
   "cell_type": "code",
   "execution_count": 51,
   "id": "84d986ed",
   "metadata": {},
   "outputs": [
    {
     "name": "stdout",
     "output_type": "stream",
     "text": [
      "('Ajay ram',)\n",
      "('ram ajay',)\n",
      "('Ganesh satya',)\n",
      "('Asha',)\n",
      "('Likith',)\n",
      "('Hemanth',)\n",
      "('Amurtha',)\n"
     ]
    }
   ],
   "source": [
    "\n",
    "mycursor = mydb.cursor()\n",
    "\n",
    "mycursor.execute(\"SELECT name FROM Employee1\")\n",
    "\n",
    "myresult = mycursor.fetchall()\n",
    "\n",
    "for x in myresult:\n",
    "  print(x)"
   ]
  },
  {
   "cell_type": "code",
   "execution_count": null,
   "id": "789414cb",
   "metadata": {},
   "outputs": [],
   "source": []
  }
 ],
 "metadata": {
  "kernelspec": {
   "display_name": "Python 3",
   "language": "python",
   "name": "python3"
  },
  "language_info": {
   "codemirror_mode": {
    "name": "ipython",
    "version": 3
   },
   "file_extension": ".py",
   "mimetype": "text/x-python",
   "name": "python",
   "nbconvert_exporter": "python",
   "pygments_lexer": "ipython3",
   "version": "3.9.4"
  }
 },
 "nbformat": 4,
 "nbformat_minor": 5
}
