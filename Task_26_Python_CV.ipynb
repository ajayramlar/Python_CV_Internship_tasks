{
 "cells": [
  {
   "cell_type": "markdown",
   "id": "a5cac6f2",
   "metadata": {},
   "source": [
    "# Enumerate a python list and try to print the counter with the list value"
   ]
  },
  {
   "cell_type": "code",
   "execution_count": 1,
   "id": "56ec8472",
   "metadata": {},
   "outputs": [
    {
     "name": "stdout",
     "output_type": "stream",
     "text": [
      "[(0, 'ajay'), (1, 'ram'), (2, 'ganesh'), (3, 'satya')]\n"
     ]
    }
   ],
   "source": [
    "a=[\"ajay\",\"ram\",\"ganesh\",\"satya\"]\n",
    "print(list(enumerate(a)))"
   ]
  },
  {
   "cell_type": "markdown",
   "id": "999dde83",
   "metadata": {},
   "source": [
    "# Enumerate a python tuple and try to print the counter with the tuple value"
   ]
  },
  {
   "cell_type": "code",
   "execution_count": 2,
   "id": "1697bcfb",
   "metadata": {},
   "outputs": [
    {
     "name": "stdout",
     "output_type": "stream",
     "text": [
      "((0, 'car'), (1, 'bus'), (2, 'train'), (3, 'bike'), (4, 'spacecraft'))\n"
     ]
    }
   ],
   "source": [
    "b=('car','bus','train','bike','spacecraft')\n",
    "print(tuple(enumerate(b)))"
   ]
  },
  {
   "cell_type": "code",
   "execution_count": null,
   "id": "ac35aa35",
   "metadata": {},
   "outputs": [],
   "source": []
  },
  {
   "cell_type": "code",
   "execution_count": null,
   "id": "ad674ca5",
   "metadata": {},
   "outputs": [],
   "source": []
  }
 ],
 "metadata": {
  "kernelspec": {
   "display_name": "Python 3",
   "language": "python",
   "name": "python3"
  },
  "language_info": {
   "codemirror_mode": {
    "name": "ipython",
    "version": 3
   },
   "file_extension": ".py",
   "mimetype": "text/x-python",
   "name": "python",
   "nbconvert_exporter": "python",
   "pygments_lexer": "ipython3",
   "version": "3.9.4"
  }
 },
 "nbformat": 4,
 "nbformat_minor": 5
}
