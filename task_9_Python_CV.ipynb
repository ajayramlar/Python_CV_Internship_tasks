{
 "cells": [
  {
   "cell_type": "markdown",
   "id": "6a804113",
   "metadata": {},
   "source": [
    "# Day 9 – Exercises\n"
   ]
  },
  {
   "cell_type": "code",
   "execution_count": 39,
   "id": "03142798",
   "metadata": {},
   "outputs": [
    {
     "name": "stdout",
     "output_type": "stream",
     "text": [
      "[3, 4, 36, 7, 8, 9, 91, 101, 17]\n"
     ]
    }
   ],
   "source": [
    "#Write a program to loop through a list of numbers and add +2 to every value to elements in list\n",
    "a=[1,2,34,5,6,7,89,99,15]\n",
    "for i in range(0,9):\n",
    "    a[i]=a[i]+2\n",
    "print(a)\n",
    "    "
   ]
  },
  {
   "cell_type": "code",
   "execution_count": 6,
   "id": "83351f68",
   "metadata": {},
   "outputs": [
    {
     "name": "stdout",
     "output_type": "stream",
     "text": [
      "54321\n",
      "4321\n",
      "321\n",
      "21\n",
      "1\n"
     ]
    }
   ],
   "source": [
    "#Write a program to get the below pattern\n",
    "54321\n",
    "4321\n",
    "321\n",
    "21\n",
    "1\n",
    "\n",
    "n = 5\n",
    "for i in range(n): \n",
    "\tprint(''.join(map(str,range(n-i,0,-1)))) "
   ]
  },
  {
   "cell_type": "code",
   "execution_count": 28,
   "id": "e2c09fea",
   "metadata": {},
   "outputs": [
    {
     "name": "stdout",
     "output_type": "stream",
     "text": [
      "enter the no of Fibonacci seguence required10\n",
      "seires\n",
      "0\n",
      "1\n",
      "1\n",
      "2\n",
      "3\n",
      "5\n",
      "8\n",
      "13\n",
      "21\n",
      "34\n"
     ]
    }
   ],
   "source": [
    "#Python Program to Print the Fibonacci sequence\n",
    "a=0\n",
    "i=1\n",
    "b=0\n",
    "n=int(input(\"enter the no of Fibonacci seguence required\"))\n",
    "if n==0:\n",
    "    print(\"0\")\n",
    "elif n==1:\n",
    "    print(0,1)\n",
    "else:\n",
    "    print(\"seires\")\n",
    "    while(b<n):\n",
    "        print(a)\n",
    "        c=a+i\n",
    "        a=i\n",
    "        i=c\n",
    "        b=b+1\n",
    "    \n",
    "    \n"
   ]
  },
  {
   "cell_type": "code",
   "execution_count": 29,
   "id": "8b401373",
   "metadata": {},
   "outputs": [
    {
     "name": "stdout",
     "output_type": "stream",
     "text": [
      "Enter a number: 121\n",
      "121 is not an Armstrong number\n"
     ]
    }
   ],
   "source": [
    "#Explain Armstrong number and write a code with a function\n",
    "\n",
    "\n",
    "#In numerical number theory, the Armstrong number definition is the number in any given number base, which forms the total of the same number, when each of its digits is raised to the power of the number of digits in the number.\n",
    "\n",
    "\n",
    "num = int(input(\"Enter a number: \"))\n",
    "\n",
    "sum = 0\n",
    "\n",
    "\n",
    "temp = num\n",
    "while temp > 0:\n",
    "   digit = temp % 10\n",
    "   sum += digit ** 3\n",
    "   temp //= 10\n",
    "\n",
    "\n",
    "if num == sum:\n",
    "   print(num,\"is an Armstrong number\")\n",
    "else:\n",
    "   print(num,\"is not an Armstrong number\")\n",
    "\n"
   ]
  },
  {
   "cell_type": "code",
   "execution_count": 15,
   "id": "db9bd56d",
   "metadata": {},
   "outputs": [
    {
     "name": "stdout",
     "output_type": "stream",
     "text": [
      "9 x 1 = 9\n",
      "9 x 2 = 18\n",
      "9 x 3 = 27\n",
      "9 x 4 = 36\n",
      "9 x 5 = 45\n",
      "9 x 6 = 54\n",
      "9 x 7 = 63\n",
      "9 x 8 = 72\n",
      "9 x 9 = 81\n",
      "9 x 10 = 90\n",
      "9 x 11 = 99\n",
      "9 x 12 = 108\n",
      "9 x 13 = 117\n",
      "9 x 14 = 126\n",
      "9 x 15 = 135\n",
      "9 x 16 = 144\n",
      "9 x 17 = 153\n",
      "9 x 18 = 162\n",
      "9 x 19 = 171\n",
      "9 x 20 = 180\n"
     ]
    }
   ],
   "source": [
    "#Write a program to print the multiplication table of 9\n",
    "\n",
    "a=9\n",
    "\n",
    "for i in range(1,21):\n",
    "    {\n",
    "        \n",
    "        print(a,\"x\",i,\"=\",i*a )\n",
    "        \n",
    "    }"
   ]
  },
  {
   "cell_type": "code",
   "execution_count": 30,
   "id": "f4f3f131",
   "metadata": {},
   "outputs": [
    {
     "name": "stdout",
     "output_type": "stream",
     "text": [
      "Enter Day:35\n",
      "Days to Years: 0\n",
      "Days to Weeks: 5\n",
      "Days to Months: 1\n"
     ]
    }
   ],
   "source": [
    "#Write a program to convert the number of days to ages\n",
    "\n",
    "days=int(input(\"Enter Day:\"))\n",
    "\n",
    "years =(int) (days / 365)\n",
    "weeks =(int) (days / 7)\n",
    "months =(int) (days / 30)\n",
    "\n",
    "print(\"Days to Years:\",years)\n",
    "print(\"Days to Weeks:\",weeks)\n",
    "print(\"Days to Months:\",months)\n"
   ]
  },
  {
   "cell_type": "code",
   "execution_count": 33,
   "id": "0fcdefea",
   "metadata": {},
   "outputs": [
    {
     "name": "stdout",
     "output_type": "stream",
     "text": [
      "0.9129452507276277\n",
      "0.40808206181339196\n",
      "2.237160944224742\n"
     ]
    }
   ],
   "source": [
    "#Solve Trigonometry problem using math function write a program to solve using math function\n",
    "\n",
    "import math\n",
    "a=20\n",
    "print(math.sin(a))\n",
    "print(math.cos(a))\n",
    "print(math.tan(a))\n"
   ]
  },
  {
   "cell_type": "code",
   "execution_count": 36,
   "id": "95c0f05e",
   "metadata": {},
   "outputs": [
    {
     "name": "stdout",
     "output_type": "stream",
     "text": [
      "Enter the first number12\n",
      "Enter the second number54\n",
      "1.addition\n",
      " 2.Subration \n",
      " 3.Multiplication \n",
      " 4.Division4\n",
      "0.2222222222222222\n"
     ]
    }
   ],
   "source": [
    "#Create a calculator only on a code level by using if condition (Basic arithmetic calculation)\n",
    "a=int(input(\"Enter the first number\"))\n",
    "b=int(input(\"Enter the second number\"))\n",
    "sym=int(input(\"1.addition\\n 2.Subration \\n 3.Multiplication \\n 4.Division\"))\n",
    "if(sum==1):\n",
    "    sum=a+b\n",
    "    print(sum)\n",
    "elif(sym==2):\n",
    "    sub=a-b\n",
    "    print(sub)\n",
    "elif(sym==3):\n",
    "    mul=a*b\n",
    "    print(mul)\n",
    "elif(sym==4):\n",
    "    if(b==0):\n",
    "        print(\"Error in diving\")\n",
    "    else:\n",
    "        div=a/b\n",
    "        print(div)\n",
    "else:\n",
    "    print(\"wrong input\")\n",
    "\n"
   ]
  },
  {
   "cell_type": "code",
   "execution_count": null,
   "id": "57886889",
   "metadata": {},
   "outputs": [],
   "source": []
  },
  {
   "cell_type": "code",
   "execution_count": null,
   "id": "34cd1a6e",
   "metadata": {},
   "outputs": [],
   "source": []
  }
 ],
 "metadata": {
  "kernelspec": {
   "display_name": "Python 3",
   "language": "python",
   "name": "python3"
  },
  "language_info": {
   "codemirror_mode": {
    "name": "ipython",
    "version": 3
   },
   "file_extension": ".py",
   "mimetype": "text/x-python",
   "name": "python",
   "nbconvert_exporter": "python",
   "pygments_lexer": "ipython3",
   "version": "3.9.4"
  }
 },
 "nbformat": 4,
 "nbformat_minor": 5
}
