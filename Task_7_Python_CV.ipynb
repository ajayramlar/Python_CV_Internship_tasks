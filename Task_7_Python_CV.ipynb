{
 "cells": [
  {
   "cell_type": "code",
   "execution_count": 11,
   "id": "3ea95bc3",
   "metadata": {},
   "outputs": [
    {
     "name": "stdout",
     "output_type": "stream",
     "text": [
      "Enter the first value :15\n",
      "Enter the second value: 5\n",
      "Enter '+' for addition , '-' for Subration ,'*' for multiplication, '/ for division'+\n",
      "Addition of a and b is  20\n"
     ]
    }
   ],
   "source": [
    "#Create a function getting two integer inputs from user. & print the following:\n",
    "\n",
    "#Addition of two numbers is +value\n",
    "\n",
    "\n",
    "def math_function(a,b,sign):\n",
    "    if sign == '+':\n",
    "        print(\"Addition of a and b is \",str(a+b))\n",
    "    elif sign == '-':\n",
    "        print(\"Subraction of a and b is \",str(a-b))\n",
    "    elif sign == '*':\n",
    "        print(\"Multiplication of a and b is \",str(a*b))\n",
    "    elif sign == '/':\n",
    "        print(\"Division of a and b is \",str(a/b))\n",
    "\n",
    "\n",
    "\n",
    "a= int(input(\"Enter the first value :\"))\n",
    "b=int(input(\"Enter the second value: \"))\n",
    "sign1=input(\"Enter '+' for addition , '-' for Subration ,'*' for multiplication, '/ for division'\")  \n",
    "math_function(a,b,sign1)\n",
    "\n",
    "\n",
    "\n",
    "\n"
   ]
  },
  {
   "cell_type": "code",
   "execution_count": 12,
   "id": "52a9aede",
   "metadata": {},
   "outputs": [
    {
     "name": "stdout",
     "output_type": "stream",
     "text": [
      "Enter the first value :45\n",
      "Enter the second value: 5\n",
      "Enter '+' for addition , '-' for Subration ,'*' for multiplication, '/ for division'-\n",
      "Subraction of a and b is  40\n"
     ]
    }
   ],
   "source": [
    "#Subtraction of two numbers is +value\n",
    "\n",
    "def math_function(a,b,sign):\n",
    "    if sign == '+':\n",
    "        print(\"Addition of a and b is \",str(a+b))\n",
    "    elif sign == '-':\n",
    "        print(\"Subraction of a and b is \",str(a-b))\n",
    "    elif sign == '*':\n",
    "        print(\"Multiplication of a and b is \",str(a*b))\n",
    "    elif sign == '/':\n",
    "        print(\"Division of a and b is \",str(a/b))\n",
    "\n",
    "\n",
    "\n",
    "a= int(input(\"Enter the first value :\"))\n",
    "b=int(input(\"Enter the second value: \"))\n",
    "sign1=input(\"Enter '+' for addition , '-' for Subration ,'*' for multiplication, '/ for division'\")  \n",
    "math_function(a,b,sign1)\n",
    "\n",
    "\n",
    "\n"
   ]
  },
  {
   "cell_type": "code",
   "execution_count": 13,
   "id": "7176239a",
   "metadata": {},
   "outputs": [
    {
     "name": "stdout",
     "output_type": "stream",
     "text": [
      "Enter the first value :20\n",
      "Enter the second value: 5\n",
      "Enter '+' for addition , '-' for Subration ,'*' for multiplication, '/ for division'/\n",
      "Division of a and b is  4.0\n"
     ]
    }
   ],
   "source": [
    "#Division of two numbers is +value\n",
    "def math_function(a,b,sign):\n",
    "    if sign == '+':\n",
    "        print(\"Addition of a and b is \",str(a+b))\n",
    "    elif sign == '-':\n",
    "        print(\"Subraction of a and b is \",str(a-b))\n",
    "    elif sign == '*':\n",
    "        print(\"Multiplication of a and b is \",str(a*b))\n",
    "    elif sign == '/':\n",
    "        print(\"Division of a and b is \",str(a/b))\n",
    "\n",
    "\n",
    "\n",
    "a= int(input(\"Enter the first value :\"))\n",
    "b=int(input(\"Enter the second value: \"))\n",
    "sign1=input(\"Enter '+' for addition , '-' for Subration ,'*' for multiplication, '/ for division'\")  \n",
    "math_function(a,b,sign1)\n",
    "\n",
    "\n"
   ]
  },
  {
   "cell_type": "code",
   "execution_count": 14,
   "id": "7f39e232",
   "metadata": {},
   "outputs": [
    {
     "name": "stdout",
     "output_type": "stream",
     "text": [
      "Enter the first value :55\n",
      "Enter the second value: 55\n",
      "Enter '+' for addition , '-' for Subration ,'*' for multiplication, '/ for division'*\n",
      "Multiplication of a and b is  3025\n"
     ]
    }
   ],
   "source": [
    "#Multiplication of two numbers is +value\n",
    "def math_function(a,b,sign):\n",
    "    if sign == '+':\n",
    "        print(\"Addition of a and b is \",str(a+b))\n",
    "    elif sign == '-':\n",
    "        print(\"Subraction of a and b is \",str(a-b))\n",
    "    elif sign == '*':\n",
    "        print(\"Multiplication of a and b is \",str(a*b))\n",
    "    elif sign == '/':\n",
    "        print(\"Division of a and b is \",str(a/b))\n",
    "\n",
    "\n",
    "\n",
    "a= int(input(\"Enter the first value :\"))\n",
    "b=int(input(\"Enter the second value: \"))\n",
    "sign1=input(\"Enter '+' for addition , '-' for Subration ,'*' for multiplication, '/ for division'\")  \n",
    "math_function(a,b,sign1)\n",
    "\n",
    "\n"
   ]
  },
  {
   "cell_type": "code",
   "execution_count": 15,
   "id": "f0af33c2",
   "metadata": {},
   "outputs": [
    {
     "name": "stdout",
     "output_type": "stream",
     "text": [
      "Enter patient name :Ajay ram\n",
      "enter body temprature : 98\n",
      "Name of patient:  Ajay ram\n",
      "Body Temprature : 98 degrees\n"
     ]
    }
   ],
   "source": [
    "#Create a function covid( ) & it should accept patient name, and body temperature, by default the body temperature should be 98 degree\n",
    "patient_name=input(\"Enter patient name :\")\n",
    "body_temp=input(\"enter body temprature : \")\n",
    "\n",
    "def covid(patient_name,body_temp):\n",
    "    print(\"Name of patient: \",patient_name)\n",
    "    if body_temp == '':\n",
    "        print(\"Body Temprature :98 degrees\")\n",
    "    else:\n",
    "        print(\"Body Temprature :\",body_temp, \"degrees\")\n",
    "covid(patient_name,body_temp)\n"
   ]
  },
  {
   "cell_type": "code",
   "execution_count": null,
   "id": "175acdf8",
   "metadata": {},
   "outputs": [],
   "source": []
  }
 ],
 "metadata": {
  "kernelspec": {
   "display_name": "Python 3",
   "language": "python",
   "name": "python3"
  },
  "language_info": {
   "codemirror_mode": {
    "name": "ipython",
    "version": 3
   },
   "file_extension": ".py",
   "mimetype": "text/x-python",
   "name": "python",
   "nbconvert_exporter": "python",
   "pygments_lexer": "ipython3",
   "version": "3.9.4"
  }
 },
 "nbformat": 4,
 "nbformat_minor": 5
}
