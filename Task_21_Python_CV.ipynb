{
 "cells": [
  {
   "cell_type": "markdown",
   "id": "7ec7193d",
   "metadata": {},
   "source": [
    "# Exercise:\n",
    "\n"
   ]
  },
  {
   "cell_type": "markdown",
   "id": "370d428a",
   "metadata": {},
   "source": [
    "# Write a program using zip() function and list() function, create a merged list of tuples from the two lists given.\n"
   ]
  },
  {
   "cell_type": "code",
   "execution_count": 2,
   "id": "407f50cb",
   "metadata": {},
   "outputs": [
    {
     "name": "stdout",
     "output_type": "stream",
     "text": [
      "<zip object at 0x0000028D171FF4C0>\n"
     ]
    },
    {
     "data": {
      "text/plain": [
       "[('1', '6'), ('2', '7'), ('3', '8'), ('4', '9'), ('5', '10')]"
      ]
     },
     "execution_count": 2,
     "metadata": {},
     "output_type": "execute_result"
    }
   ],
   "source": [
    "a=(\"1\",\"2\",\"3\",\"4\",\"5\")\n",
    "b=(\"6\",\"7\",\"8\",\"9\",\"10\")\n",
    "c=zip(a,b)\n",
    "print(c)\n",
    "list(c)"
   ]
  },
  {
   "cell_type": "markdown",
   "id": "73324a66",
   "metadata": {},
   "source": [
    "# First create a range from 1 to 8. Then using zip, merge the given list and the range together to create a new list of tuples"
   ]
  },
  {
   "cell_type": "code",
   "execution_count": 4,
   "id": "9ef8d56b",
   "metadata": {},
   "outputs": [
    {
     "data": {
      "text/plain": [
       "((1, 11), (2, 12), (3, 13), (4, 14), (5, 15), (6, 16), (7, 17))"
      ]
     },
     "execution_count": 4,
     "metadata": {},
     "output_type": "execute_result"
    }
   ],
   "source": [
    "x=range(1,8)\n",
    "y=[11,12,13,14,15,16,17,18]\n",
    "z=zip(x,y)\n",
    "\n",
    "tuple(z)"
   ]
  },
  {
   "cell_type": "markdown",
   "id": "116e9516",
   "metadata": {},
   "source": [
    "# Using sorted() function, sort the list in ascending order."
   ]
  },
  {
   "cell_type": "code",
   "execution_count": 5,
   "id": "e9a7b7d4",
   "metadata": {},
   "outputs": [
    {
     "name": "stdout",
     "output_type": "stream",
     "text": [
      "Before Sorting: [10, 5, 7, 8, 2, 4, 1, 9, 4, 3]\n",
      "After Sorting: [1, 2, 3, 4, 4, 5, 7, 8, 9, 10]\n"
     ]
    }
   ],
   "source": [
    "a=[10,5,7,8,2,4,1,9,4,3]\n",
    "print(\"Before Sorting:\",a)\n",
    "\n",
    "a=sorted(a)\n",
    "print(\"After Sorting:\",a)"
   ]
  },
  {
   "cell_type": "markdown",
   "id": "71b46ca4",
   "metadata": {},
   "source": [
    "# Write a program using filter function, filter the even numbers so that only odd numbers are passed to the new list."
   ]
  },
  {
   "cell_type": "code",
   "execution_count": 8,
   "id": "ce86cb2a",
   "metadata": {},
   "outputs": [
    {
     "name": "stdout",
     "output_type": "stream",
     "text": [
      "Even numbers\n",
      "[2, 4, 6, 8]\n",
      "Odd numbers\n",
      "[1, 3, 5, 7, 9]\n"
     ]
    }
   ],
   "source": [
    "a=[1,2,3,4,5,6,7,8,9]\n",
    "\n",
    "def even(x):\n",
    "    if (x%2==0):\n",
    "        return True\n",
    "    else:\n",
    "        return False\n",
    "print(\"Even numbers\")\n",
    "\n",
    "list_even=list(filter(even,a))\n",
    "print(list_even)\n",
    "\n",
    "list_odd=[]\n",
    "for i in a:\n",
    "    if i not in list_even:\n",
    "        list_odd.append(i)\n",
    "print(\"Odd numbers\")\n",
    "print(list_odd)"
   ]
  },
  {
   "cell_type": "code",
   "execution_count": null,
   "id": "80b55042",
   "metadata": {},
   "outputs": [],
   "source": []
  }
 ],
 "metadata": {
  "kernelspec": {
   "display_name": "Python 3",
   "language": "python",
   "name": "python3"
  },
  "language_info": {
   "codemirror_mode": {
    "name": "ipython",
    "version": 3
   },
   "file_extension": ".py",
   "mimetype": "text/x-python",
   "name": "python",
   "nbconvert_exporter": "python",
   "pygments_lexer": "ipython3",
   "version": "3.9.4"
  }
 },
 "nbformat": 4,
 "nbformat_minor": 5
}
