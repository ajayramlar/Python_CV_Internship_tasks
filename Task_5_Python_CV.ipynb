{
 "cells": [
  {
   "cell_type": "code",
   "execution_count": 6,
   "id": "dae6a096",
   "metadata": {},
   "outputs": [
    {
     "name": "stdout",
     "output_type": "stream",
     "text": [
      "[0, 1, 2, 3, 4, 5, 6, 7, 8, 9]\n",
      "Add an item in to the list (using function):\n",
      "[0, 1, 2, 3, 4, 5, 6, 8, 9, 101]\n",
      "Store the largest number from the list to a variable:\n",
      "101\n",
      "Store the Smallest number from the list to a variable:\n",
      "0\n"
     ]
    }
   ],
   "source": [
    " #Write a program to create a list of n integer values and do the following\n",
    "a = []\n",
    "\n",
    "for i in range(0,10):\n",
    "    a.append(i)\n",
    "\n",
    "print(a)\n",
    "\n",
    "#Add an item in to the list (using function)\n",
    "print('Add an item in to the list (using function):')\n",
    "a.append(101)\n",
    "\n",
    "\n",
    "#Delete (using function)\n",
    "del a[7]\n",
    "\n",
    "print(a)\n",
    "\n",
    "#Store the largest number from the list to a variable\n",
    "print('Store the largest number from the list to a variable:')\n",
    "max_in_the_list = max(a)\n",
    "print(max_in_the_list)\n",
    "\n",
    "\n",
    "\n",
    "#Store the Smallest number from the list to a variable\n",
    "print('Store the Smallest number from the list to a variable:')\n",
    "min_in_the_list = min(a)\n",
    "print(min_in_the_list)\n",
    "\n",
    "\n"
   ]
  },
  {
   "cell_type": "code",
   "execution_count": 7,
   "id": "1d94a4f7",
   "metadata": {},
   "outputs": [
    {
     "name": "stdout",
     "output_type": "stream",
     "text": [
      "Create a tuple and print the reverse of the created tuple:\n",
      "(251, 231, 34, 23, 1)\n",
      "(1, 23, 34, 231, 251)\n"
     ]
    }
   ],
   "source": [
    "# 2) Create a tuple and print the reverse of the created tuple\n",
    "\n",
    "\n",
    "print('Create a tuple and print the reverse of the created tuple:')\n",
    "tuple1 = (251,231,34,23,1)\n",
    "print(tuple1)\n",
    "revTuple1 = reversed(tuple1)\n",
    "print(tuple(revTuple1))"
   ]
  },
  {
   "cell_type": "code",
   "execution_count": 9,
   "id": "f5c2c788",
   "metadata": {},
   "outputs": [
    {
     "name": "stdout",
     "output_type": "stream",
     "text": [
      "Create a tuple and convert tuple into list:\n",
      "(1, 2, 453, 32, 534, 23, 3)\n",
      "[1, 2, 453, 32, 534, 23, 3]\n"
     ]
    }
   ],
   "source": [
    "#) Create a tuple and convert tuple into list\n",
    "\n",
    "print('Create a tuple and convert tuple into list:')\n",
    "tuple2 = (1,2,453,32,534,23,3)\n",
    "print(tuple2)\n",
    "list_tuple = list(tuple2)\n",
    "print(list_tuple)"
   ]
  },
  {
   "cell_type": "code",
   "execution_count": null,
   "id": "1b7e8255",
   "metadata": {},
   "outputs": [],
   "source": []
  }
 ],
 "metadata": {
  "kernelspec": {
   "display_name": "Python 3",
   "language": "python",
   "name": "python3"
  },
  "language_info": {
   "codemirror_mode": {
    "name": "ipython",
    "version": 3
   },
   "file_extension": ".py",
   "mimetype": "text/x-python",
   "name": "python",
   "nbconvert_exporter": "python",
   "pygments_lexer": "ipython3",
   "version": "3.9.4"
  }
 },
 "nbformat": 4,
 "nbformat_minor": 5
}
