{
 "cells": [
  {
   "cell_type": "markdown",
   "id": "d2c2ba2e",
   "metadata": {},
   "source": [
    "# Create an Excel with data of Student database and add all the values which is required for student management database, Read the excel file and add the datas into a DB (using script)\n"
   ]
  },
  {
   "cell_type": "code",
   "execution_count": 3,
   "id": "369defd3",
   "metadata": {},
   "outputs": [
    {
     "name": "stdout",
     "output_type": "stream",
     "text": [
      "<mysql.connector.connection_cext.CMySQLConnection object at 0x000001C7997D50A0>\n"
     ]
    }
   ],
   "source": [
    "import mysql.connector\n",
    "\n",
    "mydb = mysql.connector.connect(\n",
    "  host=\"localhost\",\n",
    " user=\"root\",\n",
    "  password=\"password\",\n",
    ")\n",
    "\n",
    "mycursor = mydb.cursor()\n",
    "print(mydb)"
   ]
  },
  {
   "cell_type": "code",
   "execution_count": 4,
   "id": "504ea2fa",
   "metadata": {},
   "outputs": [],
   "source": [
    "dbse = mydb.cursor()\n",
    "\n",
    "dbse.execute(\"CREATE DATABASE Students_Database\")"
   ]
  },
  {
   "cell_type": "code",
   "execution_count": 6,
   "id": "df3329fa",
   "metadata": {},
   "outputs": [
    {
     "name": "stdout",
     "output_type": "stream",
     "text": [
      "('doctors',)\n",
      "('information_schema',)\n",
      "('mydatabase',)\n",
      "('mydatabase1',)\n",
      "('mysql',)\n",
      "('performance_schema',)\n",
      "('sakila',)\n",
      "('students_database',)\n",
      "('sys',)\n",
      "('world',)\n"
     ]
    }
   ],
   "source": [
    "dbse = mydb.cursor()\n",
    "\n",
    "dbse.execute(\"SHOW DATABASES\")\n",
    "\n",
    "for entry in dbse:\n",
    "  print(entry)"
   ]
  },
  {
   "cell_type": "code",
   "execution_count": 11,
   "id": "f0c796a7",
   "metadata": {},
   "outputs": [],
   "source": [
    "\n",
    "mydb = mysql.connector.connect(\n",
    "  host=\"localhost\",\n",
    " user=\"root\",\n",
    "  password=\"password\",\n",
    "  database=\"students_Database\"\n",
    ")\n",
    "dbse = mydb.cursor()\n",
    "\n",
    "dbse.execute(\"CREATE TABLE student2 (roll_no INT(10),Reg_no INT(10),NAME VARCHAR(255), semester1 INT(25),semester2 INT(25),semester3 INT(25), CGPA INT(35) ,PHONE_NUMBER INT,email_id VARCHAR(255))\")"
   ]
  },
  {
   "cell_type": "code",
   "execution_count": 12,
   "id": "fb51ecbf",
   "metadata": {},
   "outputs": [
    {
     "name": "stdout",
     "output_type": "stream",
     "text": [
      "('student1',)\n",
      "('student2',)\n",
      "('student3',)\n"
     ]
    }
   ],
   "source": [
    "dbse = mydb.cursor()\n",
    "\n",
    "dbse.execute(\"SHOW TABLES\")\n",
    "\n",
    "for value in dbse:\n",
    "  print(value)"
   ]
  },
  {
   "cell_type": "code",
   "execution_count": 13,
   "id": "4c009039",
   "metadata": {},
   "outputs": [],
   "source": [
    "cur = mydb.cursor()\n",
    "cur.execute('SELECT * FROM student1')\n",
    "for row in cur:\n",
    "    print(row)"
   ]
  },
  {
   "cell_type": "code",
   "execution_count": 12,
   "id": "fc24ce85",
   "metadata": {},
   "outputs": [],
   "source": [
    "\n",
    "import pandas as pd\n",
    "\n",
    "df = pd.read_excel('students_database.xlsx')"
   ]
  },
  {
   "cell_type": "code",
   "execution_count": 2,
   "id": "469907a1",
   "metadata": {},
   "outputs": [],
   "source": [
    "import openpyxl\n",
    "\n"
   ]
  },
  {
   "cell_type": "code",
   "execution_count": 10,
   "id": "ed493ee5",
   "metadata": {
    "scrolled": true
   },
   "outputs": [
    {
     "name": "stdout",
     "output_type": "stream",
     "text": [
      "Asha\n"
     ]
    }
   ],
   "source": [
    "\n",
    "path = \"students_database.xlsx\"\n",
    "wb_obj = openpyxl.load_workbook(path)\n",
    "sheet_obj = wb_obj.active\n",
    "cell_obj = sheet_obj.cell(row = 5, column = 3)\n",
    "print(cell_obj.value)"
   ]
  },
  {
   "cell_type": "code",
   "execution_count": 11,
   "id": "f840a9b6",
   "metadata": {},
   "outputs": [
    {
     "name": "stdout",
     "output_type": "stream",
     "text": [
      "4\n",
      "U18CN244\n",
      "Asha\n",
      "9.8\n",
      "9.5\n",
      "8.8\n",
      "9.36667\n",
      "asha@gmail.com\n",
      "None\n",
      "None\n"
     ]
    }
   ],
   "source": [
    "for i in range(1,11):\n",
    "    cell_obj = sheet_obj.cell(row = 5, column = i)\n",
    "    print(cell_obj.value)"
   ]
  },
  {
   "cell_type": "code",
   "execution_count": null,
   "id": "53182f0e",
   "metadata": {},
   "outputs": [],
   "source": [
    "import xlrd\n",
    "\n",
    "import MySQLdb\n",
    "\n",
    "xl_sheet = xlrd.open_workbook(\"students.xlsx\")\n",
    "xl_sheet\n",
    "sheet_name =xl_sheet.sheet_names()\n",
    "sheet_name\n",
    "\n",
    "\n",
    "mydb = mysql.connector.connect(\n",
    "  host=\"localhost\",\n",
    " user=\"root\",\n",
    "  password=\"password\",\n",
    "  database=\"students_Database\"\n",
    ")\n",
    "\n",
    "cur = mydb.cursor()\n",
    "for s in range(0,1):\n",
    "    sheet=xl_sheet.sheet_by_index(s)\n",
    "    sql= \"INSERT INTO student1(roll_no,Reg_no,NAME,semester1,semester2 ,semester3 , CGPA ,email_id) VALUES(%s,%s,%s,%s,%s,%s,%s,%s)\"\n",
    "    for r in range(1,sheet.nrows):\n",
    "        roll_no =sheet.cell(r,0).value\n",
    "        Reg_no =sheet.cell(r,1).value\n",
    "        NAME =sheet.cell(r,2).value\n",
    "        semester1 =sheet.cell(r,3).value\n",
    "        semester2 =sheet.cell(r,4).value\n",
    "        semester3 =sheet.cell(r,5).value\n",
    "        CGPA =sheet.cell(r,6).value\n",
    "        email_id=sheet.cell(r,7).value\n",
    "        values =(roll_no ,Reg_no,NAME ,semester1,semester2 ,semester3 , CGPA ,email_id)\n",
    "        \n",
    "        cur.execute(sql,values)\n",
    "mydb.commit()"
   ]
  },
  {
   "cell_type": "raw",
   "id": "4a3ee109",
   "metadata": {},
   "source": [
    "(1\tU18CN241\tAjay ram\t9.3\t6.9\t6.9\t7.7\tajayramlvr@gmail.com)\n",
    "(2\tU18CN242\tGanesh\t8.5\t8.7\t8.9\t8.7\tganesh@gmail.com)\n",
    "(3\tU18CN243\tSatya\t7.9\t8.8\t8.7\t8.46667\tsatya@gmail.com)\n",
    "(4\tU18CN244\tAsha\t9.8\t9.5\t8.8\t9.36667\tasha@gmail.com)\n",
    "(5\tU18CN245\tLikith\t9.1\t5.9\t5.9\t6.96667\tlikith@gmail.com)\n",
    "(6\tU18CN246\tHemanth\t8.8\t8.7\t8.7\t8.73333\themanth@gmail.com)\n",
    "(7\tU18CN247\tCharan\t7.9\t8.4\t8.4\t8.23333\tcharan@gmail.com)\n",
    "(8\tU18CN248\tRamesh\t8.6\t7.6\t7.6\t7.93333\tramesh@gmail.com)\n",
    "(9\tU18CN249\tSantosh\t7.5\t7.6\t7.6\t7.56667\tsantosh@gmail.com)\n",
    "(10\tU18CN250\tBhumesh\t8.5\t8.7\t8.7\t8.63333\tbhumesh@gmail.com)\n",
    "(11\tU18CN251\tAmurtha\t8.4\t8.6\t8.6\t8.53333\tamurtha@gmail.com)\n",
    "(12\tU18CN252\tLasaya\t3.2\t9.3\t9.3\t7.26667\tlasaya@gmail.com)\n",
    "(13\tU18CN253\tDivya\t5.9\t8.5\t8.4\t7.6\tdivya@gmail.com)\n",
    "(14\tU18CN254\tPavan\t9.1\t7.9\t3.2\t6.73333\tpavan@gmail.com)\n",
    "(15\tU18CN255\tVijay\t4.5\t9.8\t5.9\t6.73333\tvijay@gmail.com)\n",
    "(16\tU18CN256\tMahesh\t8.4\t9.1\t9.1\t8.86667\tmahesh@gmail.com)\n",
    "(17\tU18CN257\tKhan\t7.9\t8.8\t4.5\t7.06667\tkhan@gmail.com)\n",
    "(18\tU18CN258\tIzhar\t8\t7.9\t8.4\t8.1\tizhar@gmail.com)\n",
    "(19\tU18CN259\tTasilm\t6\t8.6\t7.9\t7.5\ttasilm@gmail.com)\n",
    "(20\tU18CN260\tDevi\t9\t7.5\t8\t8.16667\tdevi@gmail.com)"
   ]
  },
  {
   "cell_type": "code",
   "execution_count": 2,
   "id": "1e8c8695",
   "metadata": {},
   "outputs": [
    {
     "ename": "NameError",
     "evalue": "name 'mydb' is not defined",
     "output_type": "error",
     "traceback": [
      "\u001b[1;31m---------------------------------------------------------------------------\u001b[0m",
      "\u001b[1;31mNameError\u001b[0m                                 Traceback (most recent call last)",
      "\u001b[1;32m<ipython-input-2-0e0532b62ea6>\u001b[0m in \u001b[0;36m<module>\u001b[1;34m\u001b[0m\n\u001b[1;32m----> 1\u001b[1;33m \u001b[0mmycursor\u001b[0m \u001b[1;33m=\u001b[0m \u001b[0mmydb\u001b[0m\u001b[1;33m.\u001b[0m\u001b[0mcursor\u001b[0m\u001b[1;33m(\u001b[0m\u001b[1;33m)\u001b[0m\u001b[1;33m\u001b[0m\u001b[1;33m\u001b[0m\u001b[0m\n\u001b[0m\u001b[0;32m      2\u001b[0m \u001b[1;33m\u001b[0m\u001b[0m\n\u001b[0;32m      3\u001b[0m \u001b[0mmycursor\u001b[0m\u001b[1;33m.\u001b[0m\u001b[0mexecute\u001b[0m\u001b[1;33m(\u001b[0m\u001b[1;34m\"SELECT NAME FROM student1 WHERE CGPA >6\"\u001b[0m\u001b[1;33m)\u001b[0m\u001b[1;33m\u001b[0m\u001b[1;33m\u001b[0m\u001b[0m\n\u001b[0;32m      4\u001b[0m \u001b[1;33m\u001b[0m\u001b[0m\n\u001b[0;32m      5\u001b[0m \u001b[0mmyresult\u001b[0m \u001b[1;33m=\u001b[0m \u001b[0mmycursor\u001b[0m\u001b[1;33m.\u001b[0m\u001b[0mfetchall\u001b[0m\u001b[1;33m(\u001b[0m\u001b[1;33m)\u001b[0m\u001b[1;33m\u001b[0m\u001b[1;33m\u001b[0m\u001b[0m\n",
      "\u001b[1;31mNameError\u001b[0m: name 'mydb' is not defined"
     ]
    }
   ],
   "source": [
    "\n",
    "mycursor = mydb.cursor()\n",
    "\n",
    "mycursor.execute(\"SELECT NAME FROM student1 WHERE CGPA >6\")\n",
    "\n",
    "myresult = mycursor.fetchall()\n",
    "\n",
    "for x in myresult:\n",
    "    print(x)"
   ]
  },
  {
   "cell_type": "code",
   "execution_count": null,
   "id": "68697b91",
   "metadata": {},
   "outputs": [],
   "source": []
  }
 ],
 "metadata": {
  "kernelspec": {
   "display_name": "Python 3",
   "language": "python",
   "name": "python3"
  },
  "language_info": {
   "codemirror_mode": {
    "name": "ipython",
    "version": 3
   },
   "file_extension": ".py",
   "mimetype": "text/x-python",
   "name": "python",
   "nbconvert_exporter": "python",
   "pygments_lexer": "ipython3",
   "version": "3.9.4"
  }
 },
 "nbformat": 4,
 "nbformat_minor": 5
}
