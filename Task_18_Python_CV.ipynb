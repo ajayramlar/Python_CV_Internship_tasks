{
 "cells": [
  {
   "cell_type": "markdown",
   "id": "9fc780c2",
   "metadata": {},
   "source": [
    "# Day 18 – Python MySql (Insert into & select)\n"
   ]
  },
  {
   "cell_type": "markdown",
   "id": "4eb4f04b",
   "metadata": {},
   "source": [
    "# Create a DB with doctor and doctor ID & patients visited\n"
   ]
  },
  {
   "cell_type": "code",
   "execution_count": 1,
   "id": "628ad3c8",
   "metadata": {},
   "outputs": [],
   "source": [
    "import mysql.connector"
   ]
  },
  {
   "cell_type": "code",
   "execution_count": 2,
   "id": "95239c61",
   "metadata": {},
   "outputs": [
    {
     "name": "stdout",
     "output_type": "stream",
     "text": [
      "<mysql.connector.connection_cext.CMySQLConnection object at 0x000001C672A20B50>\n"
     ]
    }
   ],
   "source": [
    "import mysql.connector as sql\n",
    "\n",
    "mydb= sql.connect(host = \"localhost\",\n",
    "                       user=\"ajay ram\",\n",
    "                       password = \"password\")\n",
    "\n",
    "print(mydb)"
   ]
  },
  {
   "cell_type": "code",
   "execution_count": 3,
   "id": "c2e6fe0f",
   "metadata": {},
   "outputs": [],
   "source": [
    "dbse = mydb.cursor()\n",
    "\n",
    "dbse.execute(\"CREATE DATABASE Doctors\")"
   ]
  },
  {
   "cell_type": "code",
   "execution_count": 4,
   "id": "ec287d6d",
   "metadata": {},
   "outputs": [
    {
     "name": "stdout",
     "output_type": "stream",
     "text": [
      "('doctors',)\n",
      "('information_schema',)\n",
      "('mydatabase',)\n",
      "('mydatabase1',)\n",
      "('mysql',)\n",
      "('performance_schema',)\n",
      "('sakila',)\n",
      "('sys',)\n",
      "('world',)\n"
     ]
    }
   ],
   "source": [
    "\n",
    "dbse = mydb.cursor()\n",
    "\n",
    "dbse.execute(\"SHOW DATABASES\")\n",
    "\n",
    "for entry in dbse:\n",
    "  print(entry)"
   ]
  },
  {
   "cell_type": "code",
   "execution_count": 6,
   "id": "882458f0",
   "metadata": {},
   "outputs": [],
   "source": [
    "\n",
    "mydb = mysql.connector.connect(\n",
    "  host=\"localhost\",\n",
    " user=\"root\",\n",
    "  password=\"password\",\n",
    "  database=\"Doctors\"\n",
    ")\n",
    "dbse = mydb.cursor()\n",
    "\n",
    "dbse.execute(\"CREATE TABLE Doctors (dr_id VARCHAR(255), Patient_visited VARCHAR(255))\")"
   ]
  },
  {
   "cell_type": "code",
   "execution_count": 7,
   "id": "3d1072cd",
   "metadata": {},
   "outputs": [
    {
     "name": "stdout",
     "output_type": "stream",
     "text": [
      "('doctors',)\n"
     ]
    }
   ],
   "source": [
    "dbse = mydb.cursor()\n",
    "\n",
    "dbse.execute(\"SHOW TABLES\")\n",
    "\n",
    "for value in dbse:\n",
    "  print(value)"
   ]
  },
  {
   "cell_type": "code",
   "execution_count": 11,
   "id": "1976f69d",
   "metadata": {},
   "outputs": [
    {
     "name": "stdout",
     "output_type": "stream",
     "text": [
      "10 was inserted.\n"
     ]
    }
   ],
   "source": [
    "dbse = mydb.cursor()\n",
    "\n",
    "sql = \"INSERT INTO Doctors (dr_id , Patient_visited) VALUES (%s,%s)\"\n",
    "val = [\n",
    "    (\"Doc1\",\"10\"),\n",
    "    (\"Doc2\",\"105\"),\n",
    "    (\"Doc3\",\"204\"),\n",
    "    (\"Doc4\",\"15\"),\n",
    "    (\"Doc5\",\"4\"),\n",
    "    (\"Doc6\",\"1\"),\n",
    "    (\"Doc7\",\"18\"),\n",
    "    (\"Doc8\",\"0\"),\n",
    "    (\"Doc9\",\"2\"),\n",
    "    (\"Doc10\",\"0\")\n",
    "]\n",
    "\n",
    "dbse.executemany(sql, val)\n",
    "\n",
    "mydb.commit()\n",
    "\n",
    "print(dbse.rowcount, \"was inserted.\")"
   ]
  },
  {
   "cell_type": "markdown",
   "id": "0dcab8c5",
   "metadata": {},
   "source": [
    "# Get the doctor(s) who have more than 5 patients visited"
   ]
  },
  {
   "cell_type": "code",
   "execution_count": 12,
   "id": "51a8187e",
   "metadata": {},
   "outputs": [
    {
     "name": "stdout",
     "output_type": "stream",
     "text": [
      "('Doc1', '10')\n",
      "('Doc1', '10')\n",
      "('Doc1', '10')\n",
      "('Doc1', '10')\n",
      "('Doc1', '10')\n",
      "('Doc2', '105')\n",
      "('Doc3', '204')\n",
      "('Doc4', '15')\n",
      "('Doc7', '18')\n",
      "('Doc1', '10')\n",
      "('Doc2', '105')\n",
      "('Doc3', '204')\n",
      "('Doc4', '15')\n",
      "('Doc7', '18')\n"
     ]
    }
   ],
   "source": [
    "mycursor = mydb.cursor()\n",
    "\n",
    "mycursor.execute(\"SELECT * FROM Doctors where Patient_visited >5\")\n",
    "\n",
    "myresult = mycursor.fetchall()\n",
    "\n",
    "for x in myresult:\n",
    "  print(x)"
   ]
  },
  {
   "cell_type": "markdown",
   "id": "fd27bc99",
   "metadata": {},
   "source": [
    "# Get the doctors with no patients visit"
   ]
  },
  {
   "cell_type": "code",
   "execution_count": 13,
   "id": "1507fd17",
   "metadata": {},
   "outputs": [
    {
     "name": "stdout",
     "output_type": "stream",
     "text": [
      "('Doc8', '0')\n",
      "('Doc10', '0')\n"
     ]
    }
   ],
   "source": [
    "\n",
    "mycursor = mydb.cursor()\n",
    "\n",
    "mycursor.execute(\"SELECT * FROM Doctors where Patient_visited=0\")\n",
    "\n",
    "myresult = mycursor.fetchall()\n",
    "\n",
    "for x in myresult:\n",
    "  print(x)"
   ]
  },
  {
   "cell_type": "code",
   "execution_count": null,
   "id": "cc7d2a56",
   "metadata": {},
   "outputs": [],
   "source": []
  }
 ],
 "metadata": {
  "kernelspec": {
   "display_name": "Python 3",
   "language": "python",
   "name": "python3"
  },
  "language_info": {
   "codemirror_mode": {
    "name": "ipython",
    "version": 3
   },
   "file_extension": ".py",
   "mimetype": "text/x-python",
   "name": "python",
   "nbconvert_exporter": "python",
   "pygments_lexer": "ipython3",
   "version": "3.9.4"
  }
 },
 "nbformat": 4,
 "nbformat_minor": 5
}
