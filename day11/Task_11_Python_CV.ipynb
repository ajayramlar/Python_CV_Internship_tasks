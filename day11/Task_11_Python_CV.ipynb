{
 "cells": [
  {
   "cell_type": "code",
   "execution_count": 49,
   "id": "0b9585ed",
   "metadata": {},
   "outputs": [
    {
     "name": "stdout",
     "output_type": "stream",
     "text": [
      "Data from the list\n",
      "Data from the list\n",
      "('Hello', 'h')\n"
     ]
    }
   ],
   "source": [
    "#1. Create a python module with list and import the module in another .py file and change the value in list\n",
    "\n",
    "import Module_1\n",
    "Module_1.newmodule('GANESH')\n",
    "list1=[\"harry\"]\n",
    "print(Module_1.newmodule(list1[0]))"
   ]
  },
  {
   "cell_type": "code",
   "execution_count": 50,
   "id": "e9006cfa",
   "metadata": {},
   "outputs": [],
   "source": [
    "#Install pandas package (try to import the package in a python file\n",
    "pip install pandas\n"
   ]
  },
  {
   "cell_type": "raw",
   "id": "8c158426",
   "metadata": {},
   "source": [
    "Requirement already satisfied: pandas in c:\\users\\ajayr\\appdata\\local\\programs\\python\\python39\\lib\\site-packages (1.2.4)\n",
    "Requirement already satisfied: python-dateutil>=2.7.3 in c:\\users\\ajayr\\appdata\\local\\programs\\python\\python39\\lib\\site-packages (from pandas) (2.8.1)\n",
    "Requirement already satisfied: numpy>=1.16.5 in c:\\users\\ajayr\\appdata\\local\\programs\\python\\python39\\lib\\site-packages (from pandas) (1.20.2)\n",
    "Requirement already satisfied: pytz>=2017.3 in c:\\users\\ajayr\\appdata\\local\\programs\\python\\python39\\lib\\site-packages (from pandas) (2021.1)\n",
    "Requirement already satisfied: six>=1.5 in c:\\users\\ajayr\\appdata\\local\\programs\\python\\python39\\lib\\site-packages (from python-dateutil>=2.7.3->pandas) (1.15.0)"
   ]
  },
  {
   "cell_type": "code",
   "execution_count": 54,
   "id": "2439cc2b",
   "metadata": {},
   "outputs": [
    {
     "data": {
      "text/plain": [
       "24"
      ]
     },
     "execution_count": 54,
     "metadata": {},
     "output_type": "execute_result"
    }
   ],
   "source": [
    "#Import a module that picks random number and write a program to fetch a random number from 1 to  100 on every run\n",
    "\n",
    "import numpy as np\n",
    "np.random.randint(low=1,high=100)\n",
    "\n"
   ]
  },
  {
   "cell_type": "code",
   "execution_count": 55,
   "id": "f52c0209",
   "metadata": {},
   "outputs": [
    {
     "data": {
      "text/plain": [
       "58"
      ]
     },
     "execution_count": 55,
     "metadata": {},
     "output_type": "execute_result"
    }
   ],
   "source": [
    "np.random.randint(low=1,high=100)"
   ]
  },
  {
   "cell_type": "code",
   "execution_count": 56,
   "id": "cafacbaa",
   "metadata": {},
   "outputs": [
    {
     "data": {
      "text/plain": [
       "34"
      ]
     },
     "execution_count": 56,
     "metadata": {},
     "output_type": "execute_result"
    }
   ],
   "source": [
    "np.random.randint(low=1,high=100)"
   ]
  },
  {
   "cell_type": "code",
   "execution_count": 61,
   "id": "e2c25a51",
   "metadata": {},
   "outputs": [
    {
     "data": {
      "text/plain": [
       "['C:\\\\Users\\\\ajayr\\\\AppData\\\\Local\\\\Programs\\\\Python\\\\Python39\\\\Scripts\\\\Python_CV_internship',\n",
       " 'c:\\\\users\\\\ajayr\\\\appdata\\\\local\\\\programs\\\\python\\\\python39\\\\python39.zip',\n",
       " 'c:\\\\users\\\\ajayr\\\\appdata\\\\local\\\\programs\\\\python\\\\python39\\\\DLLs',\n",
       " 'c:\\\\users\\\\ajayr\\\\appdata\\\\local\\\\programs\\\\python\\\\python39\\\\lib',\n",
       " 'c:\\\\users\\\\ajayr\\\\appdata\\\\local\\\\programs\\\\python\\\\python39',\n",
       " '',\n",
       " 'c:\\\\users\\\\ajayr\\\\appdata\\\\local\\\\programs\\\\python\\\\python39\\\\lib\\\\site-packages',\n",
       " 'c:\\\\users\\\\ajayr\\\\appdata\\\\local\\\\programs\\\\python\\\\python39\\\\lib\\\\site-packages\\\\win32',\n",
       " 'c:\\\\users\\\\ajayr\\\\appdata\\\\local\\\\programs\\\\python\\\\python39\\\\lib\\\\site-packages\\\\win32\\\\lib',\n",
       " 'c:\\\\users\\\\ajayr\\\\appdata\\\\local\\\\programs\\\\python\\\\python39\\\\lib\\\\site-packages\\\\Pythonwin',\n",
       " 'c:\\\\users\\\\ajayr\\\\appdata\\\\local\\\\programs\\\\python\\\\python39\\\\lib\\\\site-packages\\\\IPython\\\\extensions',\n",
       " 'C:\\\\Users\\\\ajayr\\\\.ipython']"
      ]
     },
     "execution_count": 61,
     "metadata": {},
     "output_type": "execute_result"
    }
   ],
   "source": [
    "#Import sys package and find the python path\n",
    "\n",
    "import sys\n",
    "sys.path\n"
   ]
  },
  {
   "cell_type": "code",
   "execution_count": 58,
   "id": "337db4eb",
   "metadata": {},
   "outputs": [
    {
     "data": {
      "text/plain": [
       "['C:\\\\Users\\\\ajayr\\\\AppData\\\\Local\\\\Programs\\\\Python\\\\Python39\\\\Scripts\\\\Python_CV_internship',\n",
       " 'c:\\\\users\\\\ajayr\\\\appdata\\\\local\\\\programs\\\\python\\\\python39\\\\python39.zip',\n",
       " 'c:\\\\users\\\\ajayr\\\\appdata\\\\local\\\\programs\\\\python\\\\python39\\\\DLLs',\n",
       " 'c:\\\\users\\\\ajayr\\\\appdata\\\\local\\\\programs\\\\python\\\\python39\\\\lib',\n",
       " 'c:\\\\users\\\\ajayr\\\\appdata\\\\local\\\\programs\\\\python\\\\python39',\n",
       " '',\n",
       " 'c:\\\\users\\\\ajayr\\\\appdata\\\\local\\\\programs\\\\python\\\\python39\\\\lib\\\\site-packages',\n",
       " 'c:\\\\users\\\\ajayr\\\\appdata\\\\local\\\\programs\\\\python\\\\python39\\\\lib\\\\site-packages\\\\win32',\n",
       " 'c:\\\\users\\\\ajayr\\\\appdata\\\\local\\\\programs\\\\python\\\\python39\\\\lib\\\\site-packages\\\\win32\\\\lib',\n",
       " 'c:\\\\users\\\\ajayr\\\\appdata\\\\local\\\\programs\\\\python\\\\python39\\\\lib\\\\site-packages\\\\Pythonwin',\n",
       " 'c:\\\\users\\\\ajayr\\\\appdata\\\\local\\\\programs\\\\python\\\\python39\\\\lib\\\\site-packages\\\\IPython\\\\extensions',\n",
       " 'C:\\\\Users\\\\ajayr\\\\.ipython']"
      ]
     },
     "execution_count": 58,
     "metadata": {},
     "output_type": "execute_result"
    }
   ],
   "source": [
    "#Try to install a package and uninstall a package using pip\n",
    "pip install \n"
   ]
  },
  {
   "cell_type": "code",
   "execution_count": null,
   "id": "50f27272",
   "metadata": {},
   "outputs": [],
   "source": []
  }
 ],
 "metadata": {
  "kernelspec": {
   "display_name": "Python 3",
   "language": "python",
   "name": "python3"
  },
  "language_info": {
   "codemirror_mode": {
    "name": "ipython",
    "version": 3
   },
   "file_extension": ".py",
   "mimetype": "text/x-python",
   "name": "python",
   "nbconvert_exporter": "python",
   "pygments_lexer": "ipython3",
   "version": "3.9.4"
  }
 },
 "nbformat": 4,
 "nbformat_minor": 5
}
