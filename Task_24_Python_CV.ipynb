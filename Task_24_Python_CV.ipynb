{
 "cells": [
  {
   "cell_type": "markdown",
   "id": "c0a1ab43",
   "metadata": {},
   "source": [
    "#  Create a JSON of all object types and import the JSON into a SQL Database\n"
   ]
  },
  {
   "cell_type": "code",
   "execution_count": 3,
   "id": "e23be0b5",
   "metadata": {},
   "outputs": [],
   "source": [
    "import json\n",
    "\n",
    "json_data=[\n",
    "    {'name':\"Ajay\",'age':21,'staff':True,'salary':75000.00,'dept_desgn':'Developer'},\n",
    "     {'name':\"Ram\",'age':35,'staff':False,'salary':56000.00,'dept_desgn':\"ML Engineer\"},\n",
    "     {'name':\"Likith\",'age':34,'staff':True,'salary':78000.00,'dept_desgn':'Web Designer'},\n",
    "     {'name':\"Raj\",'age':23,'staff':True,'salary':45000.00,'dept_desgn':'Data Scientist'},\n",
    "     {'name':\"Ganesh\",'age':21,'staff':True,'salary':67000.00,'dept_desgn':'Manager'},\n",
    "    {'name':\"Satya\",'age':19,'staff':True,'salary':67000.00,'dept_desgn':'AI Manager'}\n",
    "    \n",
    "]\n",
    "res =json.dumps(json_data)"
   ]
  },
  {
   "cell_type": "code",
   "execution_count": 4,
   "id": "dd367d6e",
   "metadata": {},
   "outputs": [
    {
     "name": "stdout",
     "output_type": "stream",
     "text": [
      "<mysql.connector.connection_cext.CMySQLConnection object at 0x00000103E6628970>\n"
     ]
    }
   ],
   "source": [
    "import mysql.connector\n",
    "\n",
    "mydb = mysql.connector.connect(\n",
    "  host=\"localhost\",\n",
    "  user=\"root\",\n",
    "  password=\"password\"\n",
    ")\n",
    "print(mydb)\n",
    "dbse = mydb.cursor()\n",
    "\n",
    "dbse.execute(\"CREATE DATABASE JSONRECORDS\")"
   ]
  },
  {
   "cell_type": "code",
   "execution_count": 5,
   "id": "ce6d52ba",
   "metadata": {},
   "outputs": [
    {
     "name": "stdout",
     "output_type": "stream",
     "text": [
      "('doctors',)\n",
      "('employee_mangement',)\n",
      "('information_schema',)\n",
      "('jsonrecords',)\n",
      "('mydatabase',)\n",
      "('mydatabase1',)\n",
      "('mysql',)\n",
      "('performance_schema',)\n",
      "('sakila',)\n",
      "('students_database',)\n",
      "('sys',)\n",
      "('world',)\n"
     ]
    }
   ],
   "source": [
    "dbse = mydb.cursor()\n",
    "\n",
    "dbse.execute(\"SHOW DATABASES\")\n",
    "\n",
    "for entry in dbse:\n",
    "  print(entry)"
   ]
  },
  {
   "cell_type": "code",
   "execution_count": 6,
   "id": "741433ab",
   "metadata": {},
   "outputs": [],
   "source": [
    "\n",
    "mydb = mysql.connector.connect(\n",
    "  host=\"localhost\",\n",
    " user=\"root\",\n",
    "  password=\"password\",\n",
    "  database=\"jsonrecords\"\n",
    ")\n",
    "dbse = mydb.cursor()\n",
    "\n",
    "dbse.execute(\"CREATE TABLE employee (name VARCHAR(255),age INT, permanent_staff VARCHAR(255), salary DOUBLE, dept_and_designation VARCHAR(255))\")"
   ]
  },
  {
   "cell_type": "code",
   "execution_count": 7,
   "id": "730a8cb4",
   "metadata": {},
   "outputs": [
    {
     "name": "stdout",
     "output_type": "stream",
     "text": [
      "('employee',)\n"
     ]
    }
   ],
   "source": [
    "dbse = mydb.cursor()\n",
    "\n",
    "dbse.execute(\"SHOW TABLES\")\n",
    "\n",
    "for value in dbse:\n",
    "  print(value)"
   ]
  },
  {
   "cell_type": "code",
   "execution_count": 8,
   "id": "a7fd9f01",
   "metadata": {},
   "outputs": [
    {
     "name": "stdout",
     "output_type": "stream",
     "text": [
      "('name', b'varchar(255)', 'YES', '', None, '')\n",
      "('age', b'int', 'YES', '', None, '')\n",
      "('permanent_staff', b'varchar(255)', 'YES', '', None, '')\n",
      "('salary', b'double', 'YES', '', None, '')\n",
      "('dept_and_designation', b'varchar(255)', 'YES', '', None, '')\n"
     ]
    }
   ],
   "source": [
    "dbse = mydb.cursor()\n",
    "\n",
    "dbse.execute(\"SHOW COLUMNS FROM employee\")\n",
    "\n",
    "for value in dbse:\n",
    "  print(value)"
   ]
  },
  {
   "cell_type": "code",
   "execution_count": null,
   "id": "1ec06fab",
   "metadata": {},
   "outputs": [],
   "source": [
    "    \n"
   ]
  },
  {
   "cell_type": "code",
   "execution_count": null,
   "id": "fbd34ec9",
   "metadata": {},
   "outputs": [],
   "source": []
  }
 ],
 "metadata": {
  "kernelspec": {
   "display_name": "Python 3",
   "language": "python",
   "name": "python3"
  },
  "language_info": {
   "codemirror_mode": {
    "name": "ipython",
    "version": 3
   },
   "file_extension": ".py",
   "mimetype": "text/x-python",
   "name": "python",
   "nbconvert_exporter": "python",
   "pygments_lexer": "ipython3",
   "version": "3.9.4"
  }
 },
 "nbformat": 4,
 "nbformat_minor": 5
}
