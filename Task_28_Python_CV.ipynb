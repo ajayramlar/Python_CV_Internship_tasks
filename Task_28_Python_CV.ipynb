{
 "cells": [
  {
   "cell_type": "markdown",
   "id": "e4cc8803",
   "metadata": {},
   "source": [
    "# Write a Python multithreading program to print current date.\n"
   ]
  },
  {
   "cell_type": "code",
   "execution_count": 8,
   "id": "6aa70ca7",
   "metadata": {},
   "outputs": [
    {
     "name": "stdout",
     "output_type": "stream",
     "text": [
      "\n",
      "Starting Thread\n",
      "Thread[1]: 2021-07-13\n",
      "Exiting Thread\n",
      "\n",
      "Starting Thread\n",
      "Thread[2]: 2021-07-13\n",
      "Exiting Thread\n",
      "\n",
      "Exiting the Program!!!\n"
     ]
    }
   ],
   "source": [
    "import threading\n",
    "import datetime\n",
    "\n",
    "class myThread (threading.Thread):\n",
    "    def __init__(self, name, counter):\n",
    "        threading.Thread.__init__(self)\n",
    "        self.threadID = counter\n",
    "        self.name = name\n",
    "        self.counter = counter\n",
    "    def run(self):\n",
    "        print(\"\\nStarting \" + self.name)\n",
    "        print_date(self.name, self.counter)\n",
    "        print(\"Exiting \" + self.name)\n",
    "\n",
    "def print_date(threadName, counter):\n",
    "    datefields = []\n",
    "    today = datetime.date.today()\n",
    "    datefields.append(today)\n",
    "    print(\"{}[{}]: {}\".format( threadName, counter, datefields[0] ))\n",
    "\n",
    "# Create new threads\n",
    "thread1 = myThread(\"Thread\", 1)\n",
    "thread2 = myThread(\"Thread\", 2)\n",
    "\n",
    "# Start new Threads\n",
    "thread1.start()\n",
    "thread2.start()\n",
    "\n",
    "thread1.join()\n",
    "thread2.join()\n",
    "print(\"\\nExiting the Program!!!\")"
   ]
  },
  {
   "cell_type": "markdown",
   "id": "4aeb8a39",
   "metadata": {},
   "source": [
    "# . Define a subclass using threading.Thread class.\n"
   ]
  },
  {
   "cell_type": "code",
   "execution_count": 7,
   "id": "bfe49fd6",
   "metadata": {},
   "outputs": [],
   "source": [
    "import threading\n",
    "import time\n",
    "exitFlag = 0\n",
    "def print_time(threadName, counter, delay):\n",
    "     while counter:\n",
    "        if exitFlag:\n",
    "            threadName.exit()\n",
    "            time.sleep(delay)\n",
    "            print(\"%s: %s\" % (threadName, time.ctime(time.time())))\n",
    "            counter -= 1\n",
    "\n",
    "class myThread(threading.Thread):\n",
    "    def __init__(self, threadID, name, counter):\n",
    "        threading.Thread.__init__(self)\n",
    "        self.threadID = threadID\n",
    "        self.name = name\n",
    "        self.counter = counter\n",
    "    def run(self):\n",
    "        print(\"Starting \" + self.name)\n",
    "        print_time(self.name, 5, self.counter)\n",
    "        print( \"Exiting \" + self.name)"
   ]
  },
  {
   "cell_type": "markdown",
   "id": "c286fe43",
   "metadata": {},
   "source": [
    "# Instantiate the subclass and trigger the thread."
   ]
  },
  {
   "cell_type": "code",
   "execution_count": 6,
   "id": "d6982902",
   "metadata": {},
   "outputs": [
    {
     "name": "stdout",
     "output_type": "stream",
     "text": [
      "Starting Thread-1\n",
      "Starting Thread-2\n",
      "Exiting Main Thread\n"
     ]
    }
   ],
   "source": [
    "thread1 = myThread(1, \"Thread-1\", 1)\n",
    "thread2 = myThread(2, \"Thread-2\", 2)\n",
    "thread1.start()\n",
    "thread2.start()\n",
    "\n",
    "print(\"Exiting Main Thread\")"
   ]
  },
  {
   "cell_type": "code",
   "execution_count": null,
   "id": "c8943416",
   "metadata": {},
   "outputs": [],
   "source": []
  }
 ],
 "metadata": {
  "kernelspec": {
   "display_name": "Python 3",
   "language": "python",
   "name": "python3"
  },
  "language_info": {
   "codemirror_mode": {
    "name": "ipython",
    "version": 3
   },
   "file_extension": ".py",
   "mimetype": "text/x-python",
   "name": "python",
   "nbconvert_exporter": "python",
   "pygments_lexer": "ipython3",
   "version": "3.9.4"
  }
 },
 "nbformat": 4,
 "nbformat_minor": 5
}
