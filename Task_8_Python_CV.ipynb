{
 "cells": [
  {
   "cell_type": "markdown",
   "id": "7becd384",
   "metadata": {},
   "source": [
    "#  Day 8 – Exercises"
   ]
  },
  {
   "cell_type": "code",
   "execution_count": 1,
   "id": "970c995e",
   "metadata": {},
   "outputs": [
    {
     "name": "stdout",
     "output_type": "stream",
     "text": [
      "{'games': 'noneed', 'studies': 'important', 'experience': 'required', 'ajay': 'ram', 'internship': 'bestenlist', 'bootcamp': 'online'}\n"
     ]
    }
   ],
   "source": [
    "#Write a Python script to merge two Python dictionaries\n",
    "\n",
    "a={\"ajay\":\"ram\",\"internship\":\"bestenlist\",\"bootcamp\":\"online\"}\n",
    "b={\"games\":\"noneed\",\"studies\":\"important\",\"experience\":\"required\"}\n",
    "\n",
    "b.update(a)\n",
    "print(b)\n"
   ]
  },
  {
   "cell_type": "code",
   "execution_count": 3,
   "id": "c7cd9bc3",
   "metadata": {},
   "outputs": [
    {
     "name": "stdout",
     "output_type": "stream",
     "text": [
      "[1, 3, 5, 6, 34, 45, 65, 343]\n"
     ]
    }
   ],
   "source": [
    "#Write a program to sort the value from descending to ascending in list and\n",
    "#convert it in to a set.\n",
    "\n",
    "a=[1,3,5,6,343,34,65,45]\n",
    "a.sort()\n",
    "print(a)\n",
    "\n"
   ]
  },
  {
   "cell_type": "code",
   "execution_count": 6,
   "id": "0056ef14",
   "metadata": {},
   "outputs": [
    {
     "name": "stdout",
     "output_type": "stream",
     "text": [
      "{'ajay': [15, 21, 215], 'ganesh': [12, 25, 54, 125, 13842], 'ram': [3, 12, 435, 1343, 2322, 445323]}\n"
     ]
    },
    {
     "data": {
      "text/plain": [
       "{'ajay': [15, 21, 215],\n",
       " 'ganesh': [12, 25, 54, 125, 13842],\n",
       " 'ram': [3, 12, 435, 1343, 2322, 445323]}"
      ]
     },
     "execution_count": 6,
     "metadata": {},
     "output_type": "execute_result"
    }
   ],
   "source": [
    "#Write a Python program to list number of items in a dictionary key and sort the\n",
    "#list with the help of a function & without the function.\n",
    "\n",
    "\n",
    "a={'ajay':[21,15,215],'ram':[12,1343,435,445323,2322,3],'ganesh':[12,25,125,13842,54]}\n",
    "result={b:sorted(a[b]) for b in sorted(a)}\n",
    "print(result)\n",
    "\n",
    "def sor(a):\n",
    "    r=dict()\n",
    "    for k in sorted(a):\n",
    "        r[k]=sorted(a[k])\n",
    "    return r\n",
    "\n",
    "sor(a)\n",
    "\n",
    "\n"
   ]
  },
  {
   "cell_type": "code",
   "execution_count": 10,
   "id": "152b3955",
   "metadata": {},
   "outputs": [
    {
     "name": "stdout",
     "output_type": "stream",
     "text": [
      "Enter the string :ajay\n",
      "ajay is the string u enterd\n"
     ]
    }
   ],
   "source": [
    "#Write a Python program to get a string from a given string (user input) and\n",
    "#change the first occurrence of the word to a user specified input\n",
    "\n",
    "a=input(\"Enter the string :\")\n",
    "w=\" is the string u enterd\"\n",
    "print(a+w)"
   ]
  },
  {
   "cell_type": "code",
   "execution_count": 12,
   "id": "14881f8b",
   "metadata": {},
   "outputs": [
    {
     "name": "stdout",
     "output_type": "stream",
     "text": [
      "Enter your name:ajay\n",
      "ajay is the string u enterd\n"
     ]
    }
   ],
   "source": [
    "#• Write a Python program to get a string from a given string where all\n",
    "#occurrences of its first char have been changed to capital letter.\n",
    "a=input(\"Enter your name:\")\n",
    "a.capitalize()\n",
    "print(a+w)"
   ]
  },
  {
   "cell_type": "code",
   "execution_count": 13,
   "id": "27995e27",
   "metadata": {},
   "outputs": [
    {
     "name": "stdout",
     "output_type": "stream",
     "text": [
      "Counter({23: 3, 1: 2, 3: 2, 32: 2, 44: 2, 2: 1, 5: 1, 2335: 1, 33: 1})\n",
      "[1, 3, 32, 44, 23]\n"
     ]
    }
   ],
   "source": [
    "#Write a Python program to find the repeated items of a list\n",
    "from collections import Counter\n",
    "\n",
    "a=[1,2,3,5,32,44,23,23,23,2335,33,44,1,3,32]\n",
    "\n",
    " \n",
    "\n",
    "b = Counter(a)\n",
    "print(b)\n",
    " \n",
    "new_list = list([item for item in b if b[item]>1])\n",
    "print(new_list)"
   ]
  },
  {
   "cell_type": "code",
   "execution_count": 14,
   "id": "8ebb24c9",
   "metadata": {},
   "outputs": [
    {
     "name": "stdout",
     "output_type": "stream",
     "text": [
      "Enter the first number:12\n",
      "Enter the second number:24\n",
      "enter the third number:36\n",
      "72\n",
      "Enter the divisor for the sum:12\n",
      "The number is divisior\n"
     ]
    }
   ],
   "source": [
    "#Write a Python program to check the sum of three elements and divided by a\n",
    "#value which is given as an input by the user\n",
    "\n",
    "a=int(input(\"Enter the first number:\"))\n",
    "b=int(input(\"Enter the second number:\"))\n",
    "c=int(input(\"enter the third number:\"))\n",
    "sum=a+b+c;\n",
    "print(sum)\n",
    "user=int(input(\"Enter the divisor for the sum:\"))\n",
    "if sum%user==0:\n",
    "    print(\"The number is divisior\")\n",
    "else:\n",
    "    print(\"This is not dividing\")"
   ]
  },
  {
   "cell_type": "code",
   "execution_count": 3,
   "id": "cba71555",
   "metadata": {},
   "outputs": [
    {
     "name": "stdout",
     "output_type": "stream",
     "text": [
      "Enter the first number10\n",
      "Enter the second number15\n",
      "Enter the third number20\n",
      "[10, 15, 20]\n",
      "Mean is: 15.0\n",
      "median is :  15.0\n",
      "mode is : 10\n"
     ]
    }
   ],
   "source": [
    "# Write a Python program to find the Mean,median,mode among three given numbers\n",
    "\n",
    "import numpy\n",
    "\n",
    "\n",
    "a = int(input(\"Enter the first number\"))\n",
    "b= int(input(\"Enter the second number\"))\n",
    "c=int(input(\"Enter the third number\"))\n",
    "\n",
    "l=[]\n",
    "l.append(a)\n",
    "l.append(b)\n",
    "l.append(c)\n",
    "print(l)\n",
    "x = numpy.mean(l)\n",
    "y = numpy.median(l)\n",
    "print(\"Mean is:\",x)\n",
    "print(\"median is : \",y)\n",
    "\n",
    "import statistics\n",
    "mode1=statistics.mode(l)\n",
    "print(\"mode is :\",mode1)\n",
    "\n"
   ]
  },
  {
   "cell_type": "code",
   "execution_count": 4,
   "id": "39ac41e4",
   "metadata": {},
   "outputs": [
    {
     "name": "stdout",
     "output_type": "stream",
     "text": [
      "Enter String  Ajay Ram\n",
      "aJAY rAM\n"
     ]
    }
   ],
   "source": [
    "#Write a Python program to swap cases of a given string\n",
    "\n",
    "s=input(\"Enter String  \")\n",
    "print(s.swapcase())"
   ]
  },
  {
   "cell_type": "code",
   "execution_count": 21,
   "id": "e764b7ad",
   "metadata": {},
   "outputs": [
    {
     "name": "stdout",
     "output_type": "stream",
     "text": [
      "Enter the number:25\n",
      "The decimal value of 25 is:\n",
      "0b11001 in binary.\n",
      "0o31 in octal.\n"
     ]
    }
   ],
   "source": [
    "#Write a program to convert an integer to binary & octa decimal\n",
    "\n",
    "dec = int(input(\"Enter the number:\"))\n",
    "\n",
    "print(\"The decimal value of\", dec, \"is:\")\n",
    "print(bin(dec), \"in binary.\")\n",
    "print(oct(dec), \"in octal.\")\n"
   ]
  },
  {
   "cell_type": "code",
   "execution_count": null,
   "id": "1e83a421",
   "metadata": {},
   "outputs": [],
   "source": []
  }
 ],
 "metadata": {
  "kernelspec": {
   "display_name": "Python 3",
   "language": "python",
   "name": "python3"
  },
  "language_info": {
   "codemirror_mode": {
    "name": "ipython",
    "version": 3
   },
   "file_extension": ".py",
   "mimetype": "text/x-python",
   "name": "python",
   "nbconvert_exporter": "python",
   "pygments_lexer": "ipython3",
   "version": "3.9.4"
  }
 },
 "nbformat": 4,
 "nbformat_minor": 5
}
