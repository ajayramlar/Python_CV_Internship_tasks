{
 "cells": [
  {
   "cell_type": "markdown",
   "id": "4a980a43",
   "metadata": {},
   "source": [
    "# Day 2  Task\n"
   ]
  },
  {
   "cell_type": "markdown",
   "id": "514e90bc",
   "metadata": {},
   "source": []
  },
  {
   "cell_type": "markdown",
   "id": "bd7f525a",
   "metadata": {},
   "source": [
    "# String data types"
   ]
  },
  {
   "cell_type": "code",
   "execution_count": 2,
   "id": "178cbb69",
   "metadata": {},
   "outputs": [
    {
     "name": "stdout",
     "output_type": "stream",
     "text": [
      "30 Days 30 hour Challenge\n",
      "30 Days 30 hour Challenge\n"
     ]
    }
   ],
   "source": [
    "#Printing values\n",
    "\n",
    "print(\"30 Days 30 hour Challenge\")\n",
    "print('30 Days 30 hour Challenge')\n",
    "\n"
   ]
  },
  {
   "cell_type": "code",
   "execution_count": 1,
   "id": "9d5e5b40",
   "metadata": {},
   "outputs": [
    {
     "name": "stdout",
     "output_type": "stream",
     "text": [
      "Ajay ram\n",
      "thirty days\n"
     ]
    }
   ],
   "source": [
    "\n",
    "#assigning the string(values) to variables\n",
    "\n",
    "myname=\"Ajay ram\"\n",
    "totaldays = \"thirty days\"\n",
    "print(myname)\n",
    "print(totaldays)"
   ]
  },
  {
   "cell_type": "code",
   "execution_count": 8,
   "id": "bf2a61fa",
   "metadata": {},
   "outputs": [
    {
     "name": "stdout",
     "output_type": "stream",
     "text": [
      "A\n",
      "j\n",
      "a\n",
      "y\n"
     ]
    }
   ],
   "source": [
    "#string indexing\n",
    "\n",
    "i=0\n",
    "name=\"Ajay ram\"\n",
    "print(name[0])\n",
    "print(name[1])\n",
    "print(name[2])\n",
    "print(name[3])\n"
   ]
  },
  {
   "cell_type": "code",
   "execution_count": 9,
   "id": "7983ef69",
   "metadata": {},
   "outputs": [
    {
     "name": "stdout",
     "output_type": "stream",
     "text": [
      "ll d\n"
     ]
    }
   ],
   "source": [
    "\n",
    "#how to print pirticular character from given text\n",
    "\n",
    "s=\"I will do this \"\n",
    "\n",
    "print(s[4:8])"
   ]
  },
  {
   "cell_type": "code",
   "execution_count": 10,
   "id": "11c69f47",
   "metadata": {},
   "outputs": [
    {
     "name": "stdout",
     "output_type": "stream",
     "text": [
      "8\n"
     ]
    }
   ],
   "source": [
    "#length of the string\n",
    "a=\"ajay ram\"\n",
    "print(len(a))"
   ]
  },
  {
   "cell_type": "code",
   "execution_count": 12,
   "id": "0aae4918",
   "metadata": {},
   "outputs": [
    {
     "name": "stdout",
     "output_type": "stream",
     "text": [
      "try hard to fail again and again to acheive anything\n",
      "try hard tofail again and again toacheive anything\n"
     ]
    }
   ],
   "source": [
    "#Joining two Strings --- String Concatenation \n",
    "a=\"try hard to\"\n",
    "b=\"fail again and again to\"\n",
    "c=\"acheive anything\"\n",
    "print(a+\" \"+b+ \" \"+c)\n",
    "print(a+b+c)#without space\n"
   ]
  },
  {
   "cell_type": "code",
   "execution_count": 14,
   "id": "bea500bd",
   "metadata": {},
   "outputs": [
    {
     "name": "stdout",
     "output_type": "stream",
     "text": [
      "for beleving in me\n",
      "FOR BELEVING IN ME\n"
     ]
    }
   ],
   "source": [
    "\n",
    "#converting string into lower case and Upper case\n",
    "a=\"For beleving in ME\"\n",
    "print(a.lower())\n",
    "print(a.upper())\n"
   ]
  },
  {
   "cell_type": "code",
   "execution_count": 15,
   "id": "189ea167",
   "metadata": {},
   "outputs": [
    {
     "name": "stdout",
     "output_type": "stream",
     "text": [
      "Wings of fire are the wings within you\n",
      "Wings Of Fire Are The Wings Within You\n",
      "wings of fire are the wings within you\n"
     ]
    }
   ],
   "source": [
    "#conerting cse fold with given values\n",
    "\n",
    "s=\"WINGS OF FIRE ARE THE WINGS WITHIN YOU\"\n",
    "\n",
    "print(s.capitalize()) #it converts only first leter into upper and other into lower\n",
    "\n",
    "print(s.title())      #it converts first letter of every word in uppercase and remaing in lower case(title)\n",
    "\n",
    "print(s.swapcase())   #it converts all upper case into lower and lower case into uppercase(swapcase)"
   ]
  },
  {
   "cell_type": "code",
   "execution_count": 16,
   "id": "0530f217",
   "metadata": {},
   "outputs": [
    {
     "name": "stdout",
     "output_type": "stream",
     "text": [
      "everthing mustn't be done by you\n"
     ]
    }
   ],
   "source": [
    "\n",
    "#casefold() \n",
    "text=\"Everthing mustn't be done by you\"\n",
    "\n",
    "x=text.casefold()\n",
    "\n",
    "print(x)"
   ]
  },
  {
   "cell_type": "code",
   "execution_count": 17,
   "id": "228426e5",
   "metadata": {},
   "outputs": [
    {
     "name": "stdout",
     "output_type": "stream",
     "text": [
      "False\n",
      "False\n",
      "False\n",
      "False\n",
      "False\n",
      "False\n",
      "False\n"
     ]
    }
   ],
   "source": [
    "#to check type of characters present in given string\n",
    "\n",
    "s=\"Make money work for you not make yourself work for money\"\n",
    "\n",
    "print(s.isalpha()) \n",
    "\n",
    "print(s.isalnum())\n",
    "\n",
    "print(s.isdigit())\n",
    "\n",
    "print(s.istitle())\n",
    "\n",
    "print(s.isupper())\n",
    "\n",
    "print(s.islower())\n",
    "\n",
    "print(s.isspace())"
   ]
  },
  {
   "cell_type": "markdown",
   "id": "54c9ae12",
   "metadata": {},
   "source": [
    "# Done by\n",
    "\n",
    "\n",
    "\n",
    "# Ajay ram"
   ]
  }
 ],
 "metadata": {
  "kernelspec": {
   "display_name": "Python 3",
   "language": "python",
   "name": "python3"
  },
  "language_info": {
   "codemirror_mode": {
    "name": "ipython",
    "version": 3
   },
   "file_extension": ".py",
   "mimetype": "text/x-python",
   "name": "python",
   "nbconvert_exporter": "python",
   "pygments_lexer": "ipython3",
   "version": "3.9.4"
  }
 },
 "nbformat": 4,
 "nbformat_minor": 5
}
