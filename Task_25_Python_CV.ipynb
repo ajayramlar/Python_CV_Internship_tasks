{
 "cells": [
  {
   "cell_type": "markdown",
   "id": "b30b36fb",
   "metadata": {},
   "source": [
    "# Write a Python program to convert a string to datetime"
   ]
  },
  {
   "cell_type": "code",
   "execution_count": 6,
   "id": "b1e0a9d8",
   "metadata": {},
   "outputs": [
    {
     "name": "stdout",
     "output_type": "stream",
     "text": [
      "2000-03-11 20:30:00\n"
     ]
    }
   ],
   "source": [
    "import datetime\n",
    "def convert(date_time):\n",
    "    format = '%b %d %Y %I:%M%p' # The format\n",
    "    datetime_str = datetime.datetime.strptime(date_time, format)\n",
    "    return datetime_str\n",
    "date_time = 'Mar 11 2000 08:30PM'\n",
    "print(convert(date_time))"
   ]
  },
  {
   "cell_type": "markdown",
   "id": "057d4c30",
   "metadata": {},
   "source": [
    "# Write a Python program to subtract five days (last working day) from current date"
   ]
  },
  {
   "cell_type": "code",
   "execution_count": 10,
   "id": "9e8b8717",
   "metadata": {},
   "outputs": [
    {
     "name": "stdout",
     "output_type": "stream",
     "text": [
      "Current Date : 2021-07-10\n",
      "11 days before Current Date  is : 2021-06-29\n"
     ]
    }
   ],
   "source": [
    "from datetime import date, timedelta\n",
    "delta = date.today() - timedelta(11)\n",
    "print('Current Date :',date.today())\n",
    "print('11 days before Current Date  is :',delta)"
   ]
  },
  {
   "cell_type": "markdown",
   "id": "80747259",
   "metadata": {},
   "source": [
    "# Write a Python program to convert the date to datetime using a function"
   ]
  },
  {
   "cell_type": "code",
   "execution_count": 11,
   "id": "7d1b4975",
   "metadata": {},
   "outputs": [
    {
     "name": "stdout",
     "output_type": "stream",
     "text": [
      "2021-07-10 00:00:00\n"
     ]
    }
   ],
   "source": [
    "from datetime import datetime\n",
    "dt = date.today()\n",
    "print(datetime.combine(dt, datetime.min.time()))"
   ]
  },
  {
   "cell_type": "markdown",
   "id": "b248ff66",
   "metadata": {},
   "source": [
    "# Write a Python program to print next 7 days (week) starting from today"
   ]
  },
  {
   "cell_type": "code",
   "execution_count": 14,
   "id": "00db809a",
   "metadata": {},
   "outputs": [
    {
     "name": "stdout",
     "output_type": "stream",
     "text": [
      "2021-07-10 19:49:01.541410\n",
      "2021-07-11 19:49:01.541410\n",
      "2021-07-12 19:49:01.541410\n",
      "2021-07-13 19:49:01.541410\n",
      "2021-07-14 19:49:01.541410\n",
      "2021-07-15 19:49:01.541410\n",
      "2021-07-16 19:49:01.541410\n"
     ]
    }
   ],
   "source": [
    "import datetime\n",
    "base = datetime.datetime.today()\n",
    "for x in range(0, 7):\n",
    "    print(base + datetime.timedelta(days=x))\n"
   ]
  },
  {
   "cell_type": "code",
   "execution_count": null,
   "id": "2721a0e6",
   "metadata": {},
   "outputs": [],
   "source": []
  }
 ],
 "metadata": {
  "kernelspec": {
   "display_name": "Python 3",
   "language": "python",
   "name": "python3"
  },
  "language_info": {
   "codemirror_mode": {
    "name": "ipython",
    "version": 3
   },
   "file_extension": ".py",
   "mimetype": "text/x-python",
   "name": "python",
   "nbconvert_exporter": "python",
   "pygments_lexer": "ipython3",
   "version": "3.9.4"
  }
 },
 "nbformat": 4,
 "nbformat_minor": 5
}
