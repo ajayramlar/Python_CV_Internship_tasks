{
 "cells": [
  {
   "cell_type": "markdown",
   "id": "b66dcc7d",
   "metadata": {},
   "source": [
    "Create a file 30 days 30 hour operations\n"
   ]
  },
  {
   "cell_type": "code",
   "execution_count": 1,
   "id": "1460bbc8",
   "metadata": {},
   "outputs": [],
   "source": [
    "f =open(r\"30_days_30_hour_operations.txt\",\"w+\")"
   ]
  },
  {
   "cell_type": "markdown",
   "id": "52874096",
   "metadata": {},
   "source": [
    "Write data in it I have completed 10 days successfully.\n"
   ]
  },
  {
   "cell_type": "code",
   "execution_count": 2,
   "id": "bfb8d3b0",
   "metadata": {},
   "outputs": [
    {
     "data": {
      "text/plain": [
       "37"
      ]
     },
     "execution_count": 2,
     "metadata": {},
     "output_type": "execute_result"
    }
   ],
   "source": [
    "f.write(\"I have completed 10 days successfully\")"
   ]
  },
  {
   "cell_type": "code",
   "execution_count": 3,
   "id": "5c8385c9",
   "metadata": {},
   "outputs": [],
   "source": [
    "f.close()"
   ]
  },
  {
   "cell_type": "markdown",
   "id": "afeec2ca",
   "metadata": {},
   "source": [
    "Append the data your name in to it.\n"
   ]
  },
  {
   "cell_type": "code",
   "execution_count": 8,
   "id": "522b55b5",
   "metadata": {},
   "outputs": [
    {
     "name": "stdout",
     "output_type": "stream",
     "text": [
      "I have completed 10 days successfullyHello , This is done by ajay ramHello , This is done by ajay ramHello , This is done by ajay ram\n",
      "Hello , This is done by ajay ram\n",
      "Hello , This is done by ajay ram\n"
     ]
    }
   ],
   "source": [
    "f1 =open(r\"30_days_30_hour_operations.txt\",\"a+\") \n",
    "f1.writelines(\"Hello , This is done by ajay ram\")\n",
    "f1 =open(r\"30_days_30_hour_operations.txt\",\"r\") \n",
    "print(f1.read())"
   ]
  },
  {
   "cell_type": "markdown",
   "id": "3ea57961",
   "metadata": {},
   "source": []
  }
 ],
 "metadata": {
  "kernelspec": {
   "display_name": "Python 3",
   "language": "python",
   "name": "python3"
  },
  "language_info": {
   "codemirror_mode": {
    "name": "ipython",
    "version": 3
   },
   "file_extension": ".py",
   "mimetype": "text/x-python",
   "name": "python",
   "nbconvert_exporter": "python",
   "pygments_lexer": "ipython3",
   "version": "3.9.4"
  }
 },
 "nbformat": 4,
 "nbformat_minor": 5
}
