{
 "cells": [
  {
   "cell_type": "code",
   "execution_count": 6,
   "id": "f47296ab",
   "metadata": {},
   "outputs": [
    {
     "name": "stdout",
     "output_type": "stream",
     "text": [
      "{'games': 'noneed', 'studies': 'important', 'experience': 'required', 'ajay': 'ram', 'internship': 'bestenlist', 'bootcamp': 'online'}\n"
     ]
    }
   ],
   "source": [
    "#Write a Python script to merge two Python dictionaries\n",
    "\n",
    "a={\"ajay\":\"ram\",\"internship\":\"bestenlist\",\"bootcamp\":\"online\"}\n",
    "b={\"games\":\"noneed\",\"studies\":\"important\",\"experience\":\"required\"}\n",
    "\n",
    "b.update(a)\n",
    "print(b)\n"
   ]
  },
  {
   "cell_type": "code",
   "execution_count": 11,
   "id": "c60226e0",
   "metadata": {},
   "outputs": [
    {
     "name": "stdout",
     "output_type": "stream",
     "text": [
      "{'studies': 'important', 'experience': 'required'}\n"
     ]
    }
   ],
   "source": [
    "#Write a Python program to remove a key from a dictionary\n",
    "\n",
    "b={\"games\":\"noneed\",\"studies\":\"important\",\"experience\":\"required\"}\n",
    "b.pop(\"games\")\n",
    "print(b)"
   ]
  },
  {
   "cell_type": "code",
   "execution_count": 14,
   "id": "87943a2a",
   "metadata": {},
   "outputs": [
    {
     "name": "stdout",
     "output_type": "stream",
     "text": [
      "{'ajay': 1, 'ram': 2, 'ganesh': 3, 'satya': 4}\n"
     ]
    }
   ],
   "source": [
    "#Write a Python program to map two lists into a dictionary\n",
    "\n",
    "a=[\"ajay\",\"ram\",\"ganesh\",\"satya\"]\n",
    "b=[1,2,3,4]\n",
    "c=dict(zip(a,b))\n",
    "print(c)"
   ]
  },
  {
   "cell_type": "code",
   "execution_count": 16,
   "id": "a4807a9a",
   "metadata": {},
   "outputs": [
    {
     "name": "stdout",
     "output_type": "stream",
     "text": [
      "The length of the dictorary is  3\n"
     ]
    }
   ],
   "source": [
    "#Write a Python program to find the length of a set\n",
    "\n",
    "a={\"ajay\":\"ram\",\"internship\":\"bestenlist\",\"bootcamp\":\"online\"}\n",
    "b=len(a)\n",
    "print(\"The length of the dictorary is \",b)"
   ]
  },
  {
   "cell_type": "code",
   "execution_count": 18,
   "id": "34f1419d",
   "metadata": {},
   "outputs": [
    {
     "name": "stdout",
     "output_type": "stream",
     "text": [
      "Original sets:\n",
      "{1, 2, 3, 4, 5}\n",
      "{4, 5, 6, 7, 8}\n",
      "\n",
      "The remove the intersection of a 2nd set from the 1st set\n",
      "a:  {1, 2, 3}\n",
      "b  {4, 5, 6, 7, 8}\n"
     ]
    }
   ],
   "source": [
    "#Write a Python program to remove the intersection of a 2nd set from the 1st set\n",
    "\n",
    "a ={1,2,3,4,5}\n",
    "b ={4,5,6,7,8}\n",
    "print(\"Original sets:\")\n",
    "print(a)\n",
    "print(b)\n",
    "print(\"\\nThe remove the intersection of a 2nd set from the 1st set\")\n",
    "for i in a&b:\n",
    "    a.remove(i)\n",
    "\n",
    "print(\"a: \",a)\n",
    "print(\"b \",b)\n"
   ]
  },
  {
   "cell_type": "code",
   "execution_count": null,
   "id": "00785d9e",
   "metadata": {},
   "outputs": [],
   "source": []
  }
 ],
 "metadata": {
  "kernelspec": {
   "display_name": "Python 3",
   "language": "python",
   "name": "python3"
  },
  "language_info": {
   "codemirror_mode": {
    "name": "ipython",
    "version": 3
   },
   "file_extension": ".py",
   "mimetype": "text/x-python",
   "name": "python",
   "nbconvert_exporter": "python",
   "pygments_lexer": "ipython3",
   "version": "3.9.4"
  }
 },
 "nbformat": 4,
 "nbformat_minor": 5
}
