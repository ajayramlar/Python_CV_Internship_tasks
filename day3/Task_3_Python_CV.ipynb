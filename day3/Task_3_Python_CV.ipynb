{
 "cells": [
  {
   "cell_type": "code",
   "execution_count": 4,
   "id": "b56bf5e2",
   "metadata": {},
   "outputs": [],
   "source": [
    "from tkinter import *\n",
    "\n",
    "from tkinter import ttk\n",
    "from tkinter import messagebox\n",
    "\n",
    "\n",
    "\n",
    "window=Tk()\n",
    "window.title(\"Employee Registration Form\")\n",
    "window.geometry('500x500')\n",
    "window.configure(background=\"olive drab\");\n",
    "\n",
    "\n",
    "Form=Label(window,text=\"Employee Registration Form\",font=(\"bold\",15)).grid(row=0,column=1)\n",
    "Employeename=Label(window ,text= \"Employee name\",width=20).grid(row=1,column =0)\n",
    "Employeeid=Label(window ,text= \"Employee id\",width=20).grid(row=2,column =0)\n",
    "Email=Label(window ,text= \"Email\",width=20).grid(row=3,column =0)\n",
    "Mobile=Label(window ,text= \"phone number\",width=20).grid(row=4,column =0)\n",
    "Address=Label(window , text=\"Address\",width=20).grid(row=5,column=0)\n",
    "City=Label(window,text=\"City\",width=20).grid(row=6,column=0)\n",
    "Country=Label(window,text=\"Country\",width=20).grid(row=7,column=0)\n",
    "Gender=Label(window,text=\"Gender\",width=20).grid(row=8,column=0)\n",
    "var = IntVar()\n",
    "Radiobutton(window, text=\"Male\",padx = 30, variable=var, value=1).grid(row = 8,column = 1)\n",
    "Radiobutton(window, text=\"Female\",padx = 20, variable=var, value=2).grid(row = 8,column = 2)\n",
    "\n",
    "Employeename1=Entry(window,width=30).grid(row =1, column =1)\n",
    "Employeeid1 =  Entry(window,width=30).grid(row=2,column=1)\n",
    "Email1=Entry(window,width=30).grid(row=3,column=1)\n",
    "mobile1=Entry(window,width=30).grid(row=4,column=1)\n",
    "Address1=Entry(window,width=30).grid(row=5,column=1)\n",
    "City1=Entry(window,width=30).grid(row=6,column=1)\n",
    "Country1=Entry(window,width=30).grid(row=7,column=1)\n",
    "\n",
    "\n",
    "\n",
    "def clicked():\n",
    "   messagebox.showinfo(\"Registeration\", \"Success\")\n",
    "  \n",
    "\n",
    "\n",
    "\n",
    "Button(window,text=\"Register\",command=clicked).grid(row=14,column=1)\n",
    "\n",
    "\n",
    "window.mainloop()\n",
    "\n"
   ]
  },
  {
   "cell_type": "code",
   "execution_count": null,
   "id": "91103b7f",
   "metadata": {},
   "outputs": [],
   "source": []
  }
 ],
 "metadata": {
  "kernelspec": {
   "display_name": "Python 3",
   "language": "python",
   "name": "python3"
  },
  "language_info": {
   "codemirror_mode": {
    "name": "ipython",
    "version": 3
   },
   "file_extension": ".py",
   "mimetype": "text/x-python",
   "name": "python",
   "nbconvert_exporter": "python",
   "pygments_lexer": "ipython3",
   "version": "3.9.4"
  }
 },
 "nbformat": 4,
 "nbformat_minor": 5
}
