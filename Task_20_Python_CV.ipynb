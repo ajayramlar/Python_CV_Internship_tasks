{
 "cells": [
  {
   "cell_type": "markdown",
   "id": "53b308f3",
   "metadata": {},
   "source": [
    "# Create an Employee Table with employee name,employee ID & Salary"
   ]
  },
  {
   "cell_type": "code",
   "execution_count": 3,
   "id": "ef9d9a48",
   "metadata": {},
   "outputs": [
    {
     "name": "stdout",
     "output_type": "stream",
     "text": [
      "<mysql.connector.connection_cext.CMySQLConnection object at 0x000002AE2432DD30>\n"
     ]
    }
   ],
   "source": [
    "import mysql.connector\n",
    "\n",
    "mydb = mysql.connector.connect(\n",
    "  host=\"localhost\",\n",
    " user=\"root\",\n",
    "  password=\"password\",\n",
    ")\n",
    "\n",
    "mycursor = mydb.cursor()\n",
    "print(mydb)"
   ]
  },
  {
   "cell_type": "code",
   "execution_count": 4,
   "id": "710b6b57",
   "metadata": {},
   "outputs": [],
   "source": [
    "dbse = mydb.cursor()\n",
    "\n",
    "dbse.execute(\"CREATE DATABASE Employee_Mangement\")"
   ]
  },
  {
   "cell_type": "code",
   "execution_count": 5,
   "id": "8840b24b",
   "metadata": {},
   "outputs": [
    {
     "name": "stdout",
     "output_type": "stream",
     "text": [
      "('doctors',)\n",
      "('employee_mangement',)\n",
      "('information_schema',)\n",
      "('mydatabase',)\n",
      "('mydatabase1',)\n",
      "('mysql',)\n",
      "('performance_schema',)\n",
      "('sakila',)\n",
      "('students_database',)\n",
      "('sys',)\n",
      "('world',)\n"
     ]
    }
   ],
   "source": [
    "dbse = mydb.cursor()\n",
    "\n",
    "dbse.execute(\"SHOW DATABASES\")\n",
    "\n",
    "for entry in dbse:\n",
    "    print(entry)"
   ]
  },
  {
   "cell_type": "code",
   "execution_count": 6,
   "id": "978c6f94",
   "metadata": {},
   "outputs": [],
   "source": [
    "mydb = mysql.connector.connect(\n",
    "  host=\"localhost\",\n",
    " user=\"root\",\n",
    "  password=\"password\",\n",
    "  database=\"employee_mangement\"\n",
    ")\n",
    "dbse = mydb.cursor()\n",
    "\n",
    "dbse.execute(\"CREATE TABLE Employee (emp_id INT , EMP_NAME VARCHAR(255),EMP_SALARY DOUBLE )\")"
   ]
  },
  {
   "cell_type": "code",
   "execution_count": 8,
   "id": "a0157e3e",
   "metadata": {},
   "outputs": [
    {
     "name": "stdout",
     "output_type": "stream",
     "text": [
      "('employee',)\n"
     ]
    }
   ],
   "source": [
    "dbse = mydb.cursor()\n",
    "\n",
    "dbse.execute(\"SHOW TABLES\")\n",
    "\n",
    "for value in dbse:\n",
    "  print(value)"
   ]
  },
  {
   "cell_type": "code",
   "execution_count": 10,
   "id": "ff027186",
   "metadata": {},
   "outputs": [
    {
     "name": "stdout",
     "output_type": "stream",
     "text": [
      "('emp_id', b'int', 'YES', '', None, '')\n",
      "('EMP_NAME', b'varchar(255)', 'YES', '', None, '')\n",
      "('EMP_SALARY', b'double', 'YES', '', None, '')\n"
     ]
    }
   ],
   "source": [
    "dbse = mydb.cursor()\n",
    "\n",
    "dbse.execute(\"SHOW COLUMNS FROM employee\")\n",
    "\n",
    "for value in dbse:\n",
    "    print(value)"
   ]
  },
  {
   "cell_type": "code",
   "execution_count": 11,
   "id": "d1bf7ead",
   "metadata": {},
   "outputs": [
    {
     "name": "stdout",
     "output_type": "stream",
     "text": [
      "10 was inserted.\n"
     ]
    }
   ],
   "source": [
    "dbse = mydb.cursor()\n",
    "\n",
    "sql = \"INSERT INTO employee (emp_id , EMP_NAME , EMP_SALARY) VALUES (%s,%s,%s)\"\n",
    "val = [\n",
    "    ('1','AJAY','100000'),\n",
    "    ('2','RAM','200000'),\n",
    "    ('3','Ganesh','80000'),\n",
    "    ('4','Satya','30000'),\n",
    "    ('5','Likith','250000'),\n",
    "    ('6','Raj','32000'),\n",
    "    ('7','Gopal','70000'),\n",
    "    ('8','Asha','500000'),\n",
    "    ('9','Amurtha','23000'),\n",
    "    ('10','Keerthi','24000')\n",
    "       \n",
    "]\n",
    "\n",
    "dbse.executemany(sql, val)\n",
    "\n",
    "mydb.commit()\n",
    "\n",
    "print(dbse.rowcount, \"was inserted.\")"
   ]
  },
  {
   "cell_type": "markdown",
   "id": "b7d73104",
   "metadata": {},
   "source": [
    "# Write a query to get the maximum and minimum salary from employees table"
   ]
  },
  {
   "cell_type": "code",
   "execution_count": 12,
   "id": "e4d00b2d",
   "metadata": {},
   "outputs": [
    {
     "name": "stdout",
     "output_type": "stream",
     "text": [
      "('Asha', 500000.0)\n"
     ]
    }
   ],
   "source": [
    "mycursor = mydb.cursor()\n",
    "\n",
    "mycursor.execute(\"SELECT EMP_NAME,EMP_SALARY FROM employee where EMP_SALARY = (select max(EMP_SALARY) from employee)\")\n",
    "\n",
    "myresult = mycursor.fetchall()\n",
    "\n",
    "for x in myresult:\n",
    "    print(x)"
   ]
  },
  {
   "cell_type": "code",
   "execution_count": 13,
   "id": "c9c1234f",
   "metadata": {},
   "outputs": [
    {
     "name": "stdout",
     "output_type": "stream",
     "text": [
      "('Amurtha', 23000.0)\n"
     ]
    }
   ],
   "source": [
    "mycursor = mydb.cursor()\n",
    "\n",
    "mycursor.execute(\"SELECT EMP_NAME,EMP_SALARY FROM employee where EMP_SALARY = (select min(EMP_SALARY) from employee)\")\n",
    "\n",
    "myresult = mycursor.fetchall()\n",
    "\n",
    "for x in myresult:\n",
    "    print(x)"
   ]
  },
  {
   "cell_type": "markdown",
   "id": "e8f386db",
   "metadata": {},
   "source": [
    "# b. Write a query to get the number of employees working with the company"
   ]
  },
  {
   "cell_type": "code",
   "execution_count": 14,
   "id": "3fb6c456",
   "metadata": {},
   "outputs": [
    {
     "name": "stdout",
     "output_type": "stream",
     "text": [
      "(10,)\n"
     ]
    }
   ],
   "source": [
    "mycursor = mydb.cursor()\n",
    "\n",
    "mycursor.execute(\"SELECT COUNT(*) from employee\")\n",
    "\n",
    "myresult = mycursor.fetchall()\n",
    "\n",
    "for x in myresult:\n",
    "    print(x)"
   ]
  },
  {
   "cell_type": "markdown",
   "id": "b03b8abe",
   "metadata": {},
   "source": [
    "# c. Write a query to get the first 3 characters of first name from employees table"
   ]
  },
  {
   "cell_type": "code",
   "execution_count": 18,
   "id": "98bdc338",
   "metadata": {},
   "outputs": [
    {
     "name": "stdout",
     "output_type": "stream",
     "text": [
      "(1, 'AJAY', 100000.0)\n"
     ]
    }
   ],
   "source": [
    "mycursor = mydb.cursor()\n",
    "\n",
    "mycursor.execute(\"SELECT * from employee WHERE EMP_NAME LIKE('AJA%')\")\n",
    "\n",
    "myresult = mycursor.fetchall()\n",
    "\n",
    "for x in myresult:\n",
    "    print(x)"
   ]
  },
  {
   "cell_type": "code",
   "execution_count": null,
   "id": "5287a153",
   "metadata": {},
   "outputs": [],
   "source": []
  }
 ],
 "metadata": {
  "kernelspec": {
   "display_name": "Python 3",
   "language": "python",
   "name": "python3"
  },
  "language_info": {
   "codemirror_mode": {
    "name": "ipython",
    "version": 3
   },
   "file_extension": ".py",
   "mimetype": "text/x-python",
   "name": "python",
   "nbconvert_exporter": "python",
   "pygments_lexer": "ipython3",
   "version": "3.9.4"
  }
 },
 "nbformat": 4,
 "nbformat_minor": 5
}
