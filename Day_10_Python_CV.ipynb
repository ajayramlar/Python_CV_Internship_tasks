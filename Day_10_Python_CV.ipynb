{
 "cells": [
  {
   "cell_type": "markdown",
   "id": "4ee0f418",
   "metadata": {},
   "source": [
    "# Create a real time scenario for inheritance example Banking concept, ecommerce concept."
   ]
  },
  {
   "cell_type": "code",
   "execution_count": 12,
   "id": "aeafb378",
   "metadata": {},
   "outputs": [],
   "source": [
    "#Create a real time scenario for inheritance example Banking concept, ecommerce concept.\n",
    "class account:\n",
    "    def __init__(self,name,address):\n",
    "        self.name = name\n",
    "        self.address = address\n",
    "    def printname(self):\n",
    "         print(self.name,self.address)\n",
    "class bank(account):\n",
    "    def __init__(self,name,address,acnumber):\n",
    "     super().__init__(name,address)\n",
    "     self.number = acnumber\n",
    "    def welcome(self):\n",
    "        print(\"Welcome\",self.name,\"\\nYour account number is\",self.number)\n",
    "\n"
   ]
  },
  {
   "cell_type": "code",
   "execution_count": 13,
   "id": "e7472e46",
   "metadata": {},
   "outputs": [
    {
     "name": "stdout",
     "output_type": "stream",
     "text": [
      "Welcome Ajay ram \n",
      "Your account number is 798137\n"
     ]
    }
   ],
   "source": [
    "name = bank(\"Ajay ram\",\"Bhimavaram\",798137)\n",
    "name.welcome()"
   ]
  },
  {
   "cell_type": "code",
   "execution_count": 14,
   "id": "a2d2b995",
   "metadata": {},
   "outputs": [],
   "source": [
    "class account:\n",
    "    def __init__(self,name,address):\n",
    "        self.name = name\n",
    "        self.address = address\n",
    "    def printname(self):\n",
    "         print(self.name,self.address)\n",
    "class flipcart(account):\n",
    "    def __init__(self,name,address,acnumber):\n",
    "     super().__init__(name,address)\n",
    "     self.number = acnumber\n",
    "    def welcome(self):\n",
    "        print(\"welcome\",self.name,\"\\nYour order id is \",self.number)\n",
    "\n"
   ]
  },
  {
   "cell_type": "code",
   "execution_count": null,
   "id": "3eafb020",
   "metadata": {},
   "outputs": [],
   "source": [
    "a = flipcart(\"Ajay Ram\",\"\",\"ID321\")\n",
    "a.welcome()"
   ]
  }
 ],
 "metadata": {
  "kernelspec": {
   "display_name": "Python 3",
   "language": "python",
   "name": "python3"
  },
  "language_info": {
   "codemirror_mode": {
    "name": "ipython",
    "version": 3
   },
   "file_extension": ".py",
   "mimetype": "text/x-python",
   "name": "python",
   "nbconvert_exporter": "python",
   "pygments_lexer": "ipython3",
   "version": "3.9.4"
  }
 },
 "nbformat": 4,
 "nbformat_minor": 5
}
