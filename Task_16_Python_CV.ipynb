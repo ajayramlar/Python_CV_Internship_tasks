{
 "cells": [
  {
   "cell_type": "markdown",
   "id": "0f6ba0a8",
   "metadata": {},
   "source": [
    "# Create a lambda function that multiplies argument x with argument y\n"
   ]
  },
  {
   "cell_type": "code",
   "execution_count": 1,
   "id": "58a85187",
   "metadata": {},
   "outputs": [
    {
     "name": "stdout",
     "output_type": "stream",
     "text": [
      "125\n"
     ]
    }
   ],
   "source": [
    "r = lambda x, y : x * y\n",
    "print(r(5,25))"
   ]
  },
  {
   "cell_type": "markdown",
   "id": "d72d3ff5",
   "metadata": {},
   "source": [
    "# Write a Python program to create Fibonacci series to n using Lambda\n"
   ]
  },
  {
   "cell_type": "code",
   "execution_count": 2,
   "id": "e298a8af",
   "metadata": {},
   "outputs": [
    {
     "name": "stdout",
     "output_type": "stream",
     "text": [
      "[0, 1, 1, 2, 3, 5, 8, 13, 21, 34, 55, 89, 144, 233, 377, 610, 987, 1597, 2584, 4181]\n"
     ]
    }
   ],
   "source": [
    "from functools import reduce\n",
    "fib = lambda n: reduce(lambda x, _: x+[x[-1]+x[-2]],\n",
    "                       range(n-2), [0, 1])\n",
    "print(fib(20))"
   ]
  },
  {
   "cell_type": "markdown",
   "id": "07d6131d",
   "metadata": {},
   "source": [
    "# Write a Python program that multiply each number of given list with a given number \n"
   ]
  },
  {
   "cell_type": "code",
   "execution_count": 4,
   "id": "37f02bd1",
   "metadata": {},
   "outputs": [
    {
     "name": "stdout",
     "output_type": "stream",
     "text": [
      "Original list:  [1, 22, 33, 44, 55, 34, 322, 543]\n",
      "Given number:  5\n",
      "Result:\n",
      "5 110 165 220 275 170 1610 2715\n"
     ]
    }
   ],
   "source": [
    "nums = [1,22,33,44,55,34,322,543]\n",
    "n = 5\n",
    "print(\"Original list: \", nums)\n",
    "print(\"Given number: \", n)\n",
    "filtered_numbers=list(map(lambda number:number*n,nums))\n",
    "print(\"Result:\")\n",
    "print(' '.join(map(str,filtered_numbers)))"
   ]
  },
  {
   "cell_type": "markdown",
   "id": "8454fca8",
   "metadata": {},
   "source": [
    "# Write a Python program to find numbers divisible by 9 from a list of numbers "
   ]
  },
  {
   "cell_type": "code",
   "execution_count": 7,
   "id": "de3dddff",
   "metadata": {},
   "outputs": [
    {
     "name": "stdout",
     "output_type": "stream",
     "text": [
      "[1, 21, 123, 232, 43, 54, 354, 64, 34, 81, 108, 3454364, 87]\n",
      "Result\n",
      "False False False False False True False False False True True False False\n",
      "Result\n",
      "54 81 108\n"
     ]
    }
   ],
   "source": [
    "list1=[1,21,123,232,43,54,354,64,34,81,108,3454364,87]\n",
    "print(list1)\n",
    "list2=list(map(lambda j:j%9==0,list1))\n",
    "print(\"Result\")\n",
    "print(' '.join(map(str,list2)))\n",
    "list2=list(filter(lambda j:j%9==0,list1))\n",
    "print(\"Result\")\n",
    "print(' '.join(map(str,list2)))"
   ]
  },
  {
   "cell_type": "markdown",
   "id": "5aaa2dff",
   "metadata": {},
   "source": [
    "# Write a Python program to count the even numbers in a given list of integers "
   ]
  },
  {
   "cell_type": "code",
   "execution_count": 9,
   "id": "b014fb76",
   "metadata": {},
   "outputs": [
    {
     "name": "stdout",
     "output_type": "stream",
     "text": [
      "[2, 5, 456, 465, 3, 465, 567, 455645, 352, 55, 54, 5, 566, 586]\n",
      "Result :\n",
      "6\n"
     ]
    }
   ],
   "source": [
    "list1=[2,5,456,465,3,465,567,455645,352,55,54,5,566,586]\n",
    "print(list1)\n",
    "list2=list(filter(lambda j:j%2==0,list1))\n",
    "print(\"Result :\")\n",
    "print(len(list2))"
   ]
  },
  {
   "cell_type": "code",
   "execution_count": null,
   "id": "9c045472",
   "metadata": {},
   "outputs": [],
   "source": []
  }
 ],
 "metadata": {
  "kernelspec": {
   "display_name": "Python 3",
   "language": "python",
   "name": "python3"
  },
  "language_info": {
   "codemirror_mode": {
    "name": "ipython",
    "version": 3
   },
   "file_extension": ".py",
   "mimetype": "text/x-python",
   "name": "python",
   "nbconvert_exporter": "python",
   "pygments_lexer": "ipython3",
   "version": "3.9.4"
  }
 },
 "nbformat": 4,
 "nbformat_minor": 5
}
