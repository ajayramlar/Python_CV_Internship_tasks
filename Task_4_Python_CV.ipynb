{
 "cells": [
  {
   "cell_type": "markdown",
   "id": "f99fc19c",
   "metadata": {},
   "source": [
    "# Task 4\n",
    "# Day 4\n",
    "\n",
    "\n",
    "# Variables & Data types"
   ]
  },
  {
   "cell_type": "code",
   "execution_count": 2,
   "id": "d67a76e4",
   "metadata": {},
   "outputs": [
    {
     "name": "stdout",
     "output_type": "stream",
     "text": [
      "2\n",
      "1000\n",
      "80\n"
     ]
    }
   ],
   "source": [
    "#Create three variable (a,b,c) with same value\n",
    "\n",
    "a=b=c=20\n",
    "#) Divide a by 10\n",
    "print(int(a/10))\n",
    "\n",
    "# Multiply b by 50\n",
    "print(int(b*50))\n",
    "\n",
    "# Add c value by 60\n",
    "print(int(c+60))"
   ]
  },
  {
   "cell_type": "code",
   "execution_count": 4,
   "id": "e889a396",
   "metadata": {},
   "outputs": [
    {
     "name": "stdout",
     "output_type": "stream",
     "text": [
      "rahul\n",
      "After changing 3rd char rayul\n"
     ]
    }
   ],
   "source": [
    "#)Create a String variable of 5 characters and replace the 3rd character with G\n",
    "\n",
    "ajay=\"rahul\"\n",
    "print(ajay)\n",
    "print(\"After changing 3rd char\",ajay.replace(\"h\",\"G\"))\n",
    "\n",
    "\n",
    "\n"
   ]
  },
  {
   "cell_type": "code",
   "execution_count": 6,
   "id": "adb74729",
   "metadata": {},
   "outputs": [
    {
     "name": "stdout",
     "output_type": "stream",
     "text": [
      "a= 10\n",
      " a to float = 10.0\n",
      "b= 20.0\n",
      "b to int = 20\n"
     ]
    }
   ],
   "source": [
    "\n",
    "\n",
    "#3)Create two values (a,b) of int,float data type & convert the vise versa\n",
    "\n",
    "\n",
    "a=10\n",
    "b=20.0\n",
    "print(\"a=\",a)\n",
    "print(\" a to float =\",float(a))\n",
    "print(\"b=\",b)\n",
    "print(\"b to int =\",int(b))\n"
   ]
  },
  {
   "cell_type": "code",
   "execution_count": null,
   "id": "6f03c239",
   "metadata": {},
   "outputs": [],
   "source": []
  }
 ],
 "metadata": {
  "kernelspec": {
   "display_name": "Python 3",
   "language": "python",
   "name": "python3"
  },
  "language_info": {
   "codemirror_mode": {
    "name": "ipython",
    "version": 3
   },
   "file_extension": ".py",
   "mimetype": "text/x-python",
   "name": "python",
   "nbconvert_exporter": "python",
   "pygments_lexer": "ipython3",
   "version": "3.9.4"
  }
 },
 "nbformat": 4,
 "nbformat_minor": 5
}
