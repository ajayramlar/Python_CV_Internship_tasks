{
 "cells": [
  {
   "cell_type": "markdown",
   "id": "099f6aae",
   "metadata": {},
   "source": [
    "# List down all the error types and check all the errors using a python program for all errors"
   ]
  },
  {
   "cell_type": "raw",
   "id": "91ea68ac",
   "metadata": {},
   "source": [
    "Name error"
   ]
  },
  {
   "cell_type": "code",
   "execution_count": 2,
   "id": "1a4413e8",
   "metadata": {},
   "outputs": [
    {
     "ename": "NameError",
     "evalue": "name 'ab' is not defined",
     "output_type": "error",
     "traceback": [
      "\u001b[1;31m---------------------------------------------------------------------------\u001b[0m",
      "\u001b[1;31mNameError\u001b[0m                                 Traceback (most recent call last)",
      "\u001b[1;32m<ipython-input-2-4b3e3e9a6d73>\u001b[0m in \u001b[0;36m<module>\u001b[1;34m\u001b[0m\n\u001b[0;32m      1\u001b[0m \u001b[0ma\u001b[0m\u001b[1;33m=\u001b[0m\u001b[1;36m12\u001b[0m\u001b[1;33m\u001b[0m\u001b[1;33m\u001b[0m\u001b[0m\n\u001b[1;32m----> 2\u001b[1;33m \u001b[0mprint\u001b[0m\u001b[1;33m(\u001b[0m\u001b[0mab\u001b[0m\u001b[1;33m)\u001b[0m\u001b[1;33m\u001b[0m\u001b[1;33m\u001b[0m\u001b[0m\n\u001b[0m",
      "\u001b[1;31mNameError\u001b[0m: name 'ab' is not defined"
     ]
    }
   ],
   "source": [
    "a=12\n",
    "print(ab)"
   ]
  },
  {
   "cell_type": "raw",
   "id": "21be5498",
   "metadata": {},
   "source": [
    "Type error"
   ]
  },
  {
   "cell_type": "code",
   "execution_count": 3,
   "id": "34b4263d",
   "metadata": {},
   "outputs": [
    {
     "ename": "TypeError",
     "evalue": "can only concatenate str (not \"int\") to str",
     "output_type": "error",
     "traceback": [
      "\u001b[1;31m---------------------------------------------------------------------------\u001b[0m",
      "\u001b[1;31mTypeError\u001b[0m                                 Traceback (most recent call last)",
      "\u001b[1;32m<ipython-input-3-5f1bebdc899e>\u001b[0m in \u001b[0;36m<module>\u001b[1;34m\u001b[0m\n\u001b[0;32m      1\u001b[0m \u001b[0mb\u001b[0m\u001b[1;33m=\u001b[0m\u001b[1;34m'111'\u001b[0m\u001b[1;33m\u001b[0m\u001b[1;33m\u001b[0m\u001b[0m\n\u001b[1;32m----> 2\u001b[1;33m \u001b[0mb\u001b[0m\u001b[1;33m+=\u001b[0m\u001b[1;36m124\u001b[0m\u001b[1;33m\u001b[0m\u001b[1;33m\u001b[0m\u001b[0m\n\u001b[0m",
      "\u001b[1;31mTypeError\u001b[0m: can only concatenate str (not \"int\") to str"
     ]
    }
   ],
   "source": [
    "b='111'\n",
    "b+=124"
   ]
  },
  {
   "cell_type": "raw",
   "id": "26b2852d",
   "metadata": {},
   "source": [
    "Syntax errror"
   ]
  },
  {
   "cell_type": "code",
   "execution_count": 4,
   "id": "4cb15182",
   "metadata": {},
   "outputs": [
    {
     "ename": "SyntaxError",
     "evalue": "invalid syntax (<ipython-input-4-0401616854f2>, line 1)",
     "output_type": "error",
     "traceback": [
      "\u001b[1;36m  File \u001b[1;32m\"<ipython-input-4-0401616854f2>\"\u001b[1;36m, line \u001b[1;32m1\u001b[0m\n\u001b[1;33m    for j range(10,20):\u001b[0m\n\u001b[1;37m          ^\u001b[0m\n\u001b[1;31mSyntaxError\u001b[0m\u001b[1;31m:\u001b[0m invalid syntax\n"
     ]
    }
   ],
   "source": [
    "for j range(10,20):\n",
    "    print(i)"
   ]
  },
  {
   "cell_type": "raw",
   "id": "4c78d215",
   "metadata": {},
   "source": [
    "Index error"
   ]
  },
  {
   "cell_type": "code",
   "execution_count": 5,
   "id": "7856a7c2",
   "metadata": {},
   "outputs": [
    {
     "name": "stdout",
     "output_type": "stream",
     "text": [
      "2\n",
      "3\n",
      "4\n",
      "5\n",
      "56\n",
      "6\n",
      "7\n"
     ]
    },
    {
     "ename": "IndexError",
     "evalue": "list index out of range",
     "output_type": "error",
     "traceback": [
      "\u001b[1;31m---------------------------------------------------------------------------\u001b[0m",
      "\u001b[1;31mIndexError\u001b[0m                                Traceback (most recent call last)",
      "\u001b[1;32m<ipython-input-5-1af7c3ce58a8>\u001b[0m in \u001b[0;36m<module>\u001b[1;34m\u001b[0m\n\u001b[0;32m      1\u001b[0m \u001b[0ml\u001b[0m\u001b[1;33m=\u001b[0m\u001b[1;33m[\u001b[0m\u001b[1;36m1\u001b[0m\u001b[1;33m,\u001b[0m\u001b[1;36m2\u001b[0m\u001b[1;33m,\u001b[0m\u001b[1;36m3\u001b[0m\u001b[1;33m,\u001b[0m\u001b[1;36m4\u001b[0m\u001b[1;33m,\u001b[0m\u001b[1;36m5\u001b[0m\u001b[1;33m,\u001b[0m\u001b[1;36m56\u001b[0m\u001b[1;33m,\u001b[0m\u001b[1;36m6\u001b[0m\u001b[1;33m,\u001b[0m\u001b[1;36m7\u001b[0m\u001b[1;33m]\u001b[0m\u001b[1;33m\u001b[0m\u001b[1;33m\u001b[0m\u001b[0m\n\u001b[0;32m      2\u001b[0m \u001b[1;32mfor\u001b[0m \u001b[0mi\u001b[0m \u001b[1;32min\u001b[0m \u001b[0mrange\u001b[0m\u001b[1;33m(\u001b[0m\u001b[0mlen\u001b[0m\u001b[1;33m(\u001b[0m\u001b[0ml\u001b[0m\u001b[1;33m)\u001b[0m\u001b[1;33m)\u001b[0m\u001b[1;33m:\u001b[0m\u001b[1;33m\u001b[0m\u001b[1;33m\u001b[0m\u001b[0m\n\u001b[1;32m----> 3\u001b[1;33m     \u001b[0mprint\u001b[0m\u001b[1;33m(\u001b[0m\u001b[0ml\u001b[0m\u001b[1;33m[\u001b[0m\u001b[0mi\u001b[0m\u001b[1;33m+\u001b[0m\u001b[1;36m1\u001b[0m\u001b[1;33m]\u001b[0m\u001b[1;33m)\u001b[0m\u001b[1;33m\u001b[0m\u001b[1;33m\u001b[0m\u001b[0m\n\u001b[0m",
      "\u001b[1;31mIndexError\u001b[0m: list index out of range"
     ]
    }
   ],
   "source": [
    "l=[1,2,3,4,5,56,6,7]\n",
    "for i in range(len(l)):\n",
    "    print(l[i+1])"
   ]
  },
  {
   "cell_type": "raw",
   "id": "39697713",
   "metadata": {},
   "source": [
    "Value error"
   ]
  },
  {
   "cell_type": "code",
   "execution_count": 6,
   "id": "df33cac1",
   "metadata": {},
   "outputs": [
    {
     "ename": "ValueError",
     "evalue": "invalid literal for int() with base 10: 'a'",
     "output_type": "error",
     "traceback": [
      "\u001b[1;31m---------------------------------------------------------------------------\u001b[0m",
      "\u001b[1;31mValueError\u001b[0m                                Traceback (most recent call last)",
      "\u001b[1;32m<ipython-input-6-d9136db7b558>\u001b[0m in \u001b[0;36m<module>\u001b[1;34m\u001b[0m\n\u001b[1;32m----> 1\u001b[1;33m \u001b[0mint\u001b[0m\u001b[1;33m(\u001b[0m\u001b[1;34m\"a\"\u001b[0m\u001b[1;33m)\u001b[0m\u001b[1;33m\u001b[0m\u001b[1;33m\u001b[0m\u001b[0m\n\u001b[0m",
      "\u001b[1;31mValueError\u001b[0m: invalid literal for int() with base 10: 'a'"
     ]
    }
   ],
   "source": [
    "int(\"a\")"
   ]
  },
  {
   "cell_type": "raw",
   "id": "847f991d",
   "metadata": {},
   "source": [
    "zero division error"
   ]
  },
  {
   "cell_type": "code",
   "execution_count": 7,
   "id": "97cab9d4",
   "metadata": {},
   "outputs": [
    {
     "ename": "ZeroDivisionError",
     "evalue": "division by zero",
     "output_type": "error",
     "traceback": [
      "\u001b[1;31m---------------------------------------------------------------------------\u001b[0m",
      "\u001b[1;31mZeroDivisionError\u001b[0m                         Traceback (most recent call last)",
      "\u001b[1;32m<ipython-input-7-9e1622b385b6>\u001b[0m in \u001b[0;36m<module>\u001b[1;34m\u001b[0m\n\u001b[1;32m----> 1\u001b[1;33m \u001b[1;36m1\u001b[0m\u001b[1;33m/\u001b[0m\u001b[1;36m0\u001b[0m\u001b[1;33m\u001b[0m\u001b[1;33m\u001b[0m\u001b[0m\n\u001b[0m",
      "\u001b[1;31mZeroDivisionError\u001b[0m: division by zero"
     ]
    }
   ],
   "source": [
    "1/0"
   ]
  },
  {
   "cell_type": "markdown",
   "id": "696bf7a9",
   "metadata": {},
   "source": [
    "# Design a simple calculator app with try and except for all use cases"
   ]
  },
  {
   "cell_type": "code",
   "execution_count": 9,
   "id": "06f87ae2",
   "metadata": {},
   "outputs": [
    {
     "name": "stdout",
     "output_type": "stream",
     "text": [
      "+\n",
      "-\n",
      "*\n",
      "/\n",
      "%\n",
      "**\n",
      "Select an operator:n/\n",
      "Enter two numbers\n",
      "20\n",
      "50\n",
      "0.4\n"
     ]
    }
   ],
   "source": [
    "def calculate():\n",
    "    try:\n",
    "        print('+')\n",
    "        print('-')\n",
    "        print('*')\n",
    "        print('/')\n",
    "        print('%')\n",
    "        print('**')\n",
    "        operation = input(\"Select an operator:n\")\n",
    "        print(\"Enter two numbers\")\n",
    "        number_1 = int(input())\n",
    "        number_2 = int(input())\n",
    "        if operation == '+': # To add two numbers\n",
    "            print(number_1 + number_2)\n",
    "        elif operation == '-': # To subtract two numbers\n",
    "            print(number_1 - number_2)\n",
    "        elif operation == '*': # To multiply two numbers\n",
    "            print(number_1 * number_2)\n",
    "        elif operation == '/': # To divide two numbers\n",
    "            print(number_1 / number_2)\n",
    "        elif operation == '%': # To remainder two numbers\n",
    "            print(number_1 % number_2)\n",
    "        elif operation == '**': # To num1 exponent num2\n",
    "            print(number_1 ** number_2)\n",
    "        else:\n",
    "            print('Invalid Input')\n",
    "    except Exception as e:\n",
    "        print(e)\n",
    "        \n",
    "calculate()"
   ]
  },
  {
   "cell_type": "markdown",
   "id": "79e83c28",
   "metadata": {},
   "source": [
    "# print one message if the try block raises a NameError and another for other errors"
   ]
  },
  {
   "cell_type": "code",
   "execution_count": 10,
   "id": "7fc7b0ce",
   "metadata": {},
   "outputs": [
    {
     "name": "stdout",
     "output_type": "stream",
     "text": [
      "111\n",
      "Name error\n"
     ]
    }
   ],
   "source": [
    "try:\n",
    "    a = 123\n",
    "    if a==123:\n",
    "        print(b)\n",
    "        raise NameError(\"Name error\")\n",
    "    if a >0:\n",
    "        raise ValueError(\"Value error\")\n",
    "except NameError as ne:\n",
    "        print(ne)\n",
    "except ValueError as ve:\n",
    "    pritn(ve)"
   ]
  },
  {
   "cell_type": "markdown",
   "id": "37d0a133",
   "metadata": {},
   "source": [
    "python Exceptions are error scenarios that alter the normal execution flow of the program The process of The code inside the else block is executed if there are no exceptions raised."
   ]
  },
  {
   "cell_type": "markdown",
   "id": "e2247e22",
   "metadata": {},
   "source": [
    "# Try getting an input inside the try catch block"
   ]
  },
  {
   "cell_type": "code",
   "execution_count": 12,
   "id": "7043ee7c",
   "metadata": {},
   "outputs": [
    {
     "name": "stdout",
     "output_type": "stream",
     "text": [
      "Enter your age: eihgt\n",
      "You have entered an invalid value.\n"
     ]
    }
   ],
   "source": [
    "try:\n",
    "    age=int(input('Enter your age: '))\n",
    "except:\n",
    "    print ('You have entered an invalid value.')"
   ]
  },
  {
   "cell_type": "code",
   "execution_count": null,
   "id": "13550d19",
   "metadata": {},
   "outputs": [],
   "source": []
  },
  {
   "cell_type": "code",
   "execution_count": null,
   "id": "f32b7674",
   "metadata": {},
   "outputs": [],
   "source": []
  }
 ],
 "metadata": {
  "kernelspec": {
   "display_name": "Python 3",
   "language": "python",
   "name": "python3"
  },
  "language_info": {
   "codemirror_mode": {
    "name": "ipython",
    "version": 3
   },
   "file_extension": ".py",
   "mimetype": "text/x-python",
   "name": "python",
   "nbconvert_exporter": "python",
   "pygments_lexer": "ipython3",
   "version": "3.9.4"
  }
 },
 "nbformat": 4,
 "nbformat_minor": 5
}
